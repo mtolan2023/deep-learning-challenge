{
 "cells": [
  {
   "cell_type": "markdown",
   "metadata": {
    "id": "gC_RdhS6Spaz"
   },
   "source": [
    "## Preprocessing"
   ]
  },
  {
   "cell_type": "code",
   "execution_count": 1,
   "metadata": {
    "colab": {
     "base_uri": "https://localhost:8080/",
     "height": 452
    },
    "executionInfo": {
     "elapsed": 28147,
     "status": "ok",
     "timestamp": 1693106193475,
     "user": {
      "displayName": "Michael Tolan",
      "userId": "01669100208714846840"
     },
     "user_tz": 240
    },
    "id": "kjG6DD5aSpa3",
    "outputId": "d3eb5e60-ce59-47f1-a943-1530a8676213",
    "scrolled": true
   },
   "outputs": [
    {
     "name": "stderr",
     "output_type": "stream",
     "text": [
      "2023-08-27 17:13:10.074346: I tensorflow/core/platform/cpu_feature_guard.cc:193] This TensorFlow binary is optimized with oneAPI Deep Neural Network Library (oneDNN) to use the following CPU instructions in performance-critical operations:  SSE4.1 SSE4.2 AVX AVX2 FMA\n",
      "To enable them in other operations, rebuild TensorFlow with the appropriate compiler flags.\n"
     ]
    },
    {
     "data": {
      "text/html": [
       "<div>\n",
       "<style scoped>\n",
       "    .dataframe tbody tr th:only-of-type {\n",
       "        vertical-align: middle;\n",
       "    }\n",
       "\n",
       "    .dataframe tbody tr th {\n",
       "        vertical-align: top;\n",
       "    }\n",
       "\n",
       "    .dataframe thead th {\n",
       "        text-align: right;\n",
       "    }\n",
       "</style>\n",
       "<table border=\"1\" class=\"dataframe\">\n",
       "  <thead>\n",
       "    <tr style=\"text-align: right;\">\n",
       "      <th></th>\n",
       "      <th>EIN</th>\n",
       "      <th>NAME</th>\n",
       "      <th>APPLICATION_TYPE</th>\n",
       "      <th>AFFILIATION</th>\n",
       "      <th>CLASSIFICATION</th>\n",
       "      <th>USE_CASE</th>\n",
       "      <th>ORGANIZATION</th>\n",
       "      <th>STATUS</th>\n",
       "      <th>INCOME_AMT</th>\n",
       "      <th>SPECIAL_CONSIDERATIONS</th>\n",
       "      <th>ASK_AMT</th>\n",
       "      <th>IS_SUCCESSFUL</th>\n",
       "    </tr>\n",
       "  </thead>\n",
       "  <tbody>\n",
       "    <tr>\n",
       "      <th>0</th>\n",
       "      <td>10520599</td>\n",
       "      <td>BLUE KNIGHTS MOTORCYCLE CLUB</td>\n",
       "      <td>T10</td>\n",
       "      <td>Independent</td>\n",
       "      <td>C1000</td>\n",
       "      <td>ProductDev</td>\n",
       "      <td>Association</td>\n",
       "      <td>1</td>\n",
       "      <td>0</td>\n",
       "      <td>N</td>\n",
       "      <td>5000</td>\n",
       "      <td>1</td>\n",
       "    </tr>\n",
       "    <tr>\n",
       "      <th>1</th>\n",
       "      <td>10531628</td>\n",
       "      <td>AMERICAN CHESAPEAKE CLUB CHARITABLE TR</td>\n",
       "      <td>T3</td>\n",
       "      <td>Independent</td>\n",
       "      <td>C2000</td>\n",
       "      <td>Preservation</td>\n",
       "      <td>Co-operative</td>\n",
       "      <td>1</td>\n",
       "      <td>1-9999</td>\n",
       "      <td>N</td>\n",
       "      <td>108590</td>\n",
       "      <td>1</td>\n",
       "    </tr>\n",
       "    <tr>\n",
       "      <th>2</th>\n",
       "      <td>10547893</td>\n",
       "      <td>ST CLOUD PROFESSIONAL FIREFIGHTERS</td>\n",
       "      <td>T5</td>\n",
       "      <td>CompanySponsored</td>\n",
       "      <td>C3000</td>\n",
       "      <td>ProductDev</td>\n",
       "      <td>Association</td>\n",
       "      <td>1</td>\n",
       "      <td>0</td>\n",
       "      <td>N</td>\n",
       "      <td>5000</td>\n",
       "      <td>0</td>\n",
       "    </tr>\n",
       "    <tr>\n",
       "      <th>3</th>\n",
       "      <td>10553066</td>\n",
       "      <td>SOUTHSIDE ATHLETIC ASSOCIATION</td>\n",
       "      <td>T3</td>\n",
       "      <td>CompanySponsored</td>\n",
       "      <td>C2000</td>\n",
       "      <td>Preservation</td>\n",
       "      <td>Trust</td>\n",
       "      <td>1</td>\n",
       "      <td>10000-24999</td>\n",
       "      <td>N</td>\n",
       "      <td>6692</td>\n",
       "      <td>1</td>\n",
       "    </tr>\n",
       "    <tr>\n",
       "      <th>4</th>\n",
       "      <td>10556103</td>\n",
       "      <td>GENETIC RESEARCH INSTITUTE OF THE DESERT</td>\n",
       "      <td>T3</td>\n",
       "      <td>Independent</td>\n",
       "      <td>C1000</td>\n",
       "      <td>Heathcare</td>\n",
       "      <td>Trust</td>\n",
       "      <td>1</td>\n",
       "      <td>100000-499999</td>\n",
       "      <td>N</td>\n",
       "      <td>142590</td>\n",
       "      <td>1</td>\n",
       "    </tr>\n",
       "  </tbody>\n",
       "</table>\n",
       "</div>"
      ],
      "text/plain": [
       "        EIN                                      NAME APPLICATION_TYPE  \\\n",
       "0  10520599              BLUE KNIGHTS MOTORCYCLE CLUB              T10   \n",
       "1  10531628    AMERICAN CHESAPEAKE CLUB CHARITABLE TR               T3   \n",
       "2  10547893        ST CLOUD PROFESSIONAL FIREFIGHTERS               T5   \n",
       "3  10553066            SOUTHSIDE ATHLETIC ASSOCIATION               T3   \n",
       "4  10556103  GENETIC RESEARCH INSTITUTE OF THE DESERT               T3   \n",
       "\n",
       "        AFFILIATION CLASSIFICATION      USE_CASE  ORGANIZATION  STATUS  \\\n",
       "0       Independent          C1000    ProductDev   Association       1   \n",
       "1       Independent          C2000  Preservation  Co-operative       1   \n",
       "2  CompanySponsored          C3000    ProductDev   Association       1   \n",
       "3  CompanySponsored          C2000  Preservation         Trust       1   \n",
       "4       Independent          C1000     Heathcare         Trust       1   \n",
       "\n",
       "      INCOME_AMT SPECIAL_CONSIDERATIONS  ASK_AMT  IS_SUCCESSFUL  \n",
       "0              0                      N     5000              1  \n",
       "1         1-9999                      N   108590              1  \n",
       "2              0                      N     5000              0  \n",
       "3    10000-24999                      N     6692              1  \n",
       "4  100000-499999                      N   142590              1  "
      ]
     },
     "execution_count": 1,
     "metadata": {},
     "output_type": "execute_result"
    }
   ],
   "source": [
    "# Import our dependencies\n",
    "from sklearn.model_selection import train_test_split\n",
    "from sklearn.preprocessing import StandardScaler\n",
    "import pandas as pd\n",
    "import tensorflow as tf\n",
    "\n",
    "from warnings import simplefilter\n",
    "# ignore all future warnings\n",
    "simplefilter(action='ignore')\n",
    "\n",
    "#  Import and read the charity_data.csv.\n",
    "import pandas as pd\n",
    "application_df = pd.read_csv(\"https://static.bc-edx.com/data/dl-1-2/m21/lms/starter/charity_data.csv\")\n",
    "application_df.head()"
   ]
  },
  {
   "cell_type": "code",
   "execution_count": 3,
   "metadata": {
    "colab": {
     "base_uri": "https://localhost:8080/",
     "height": 206
    },
    "executionInfo": {
     "elapsed": 16,
     "status": "ok",
     "timestamp": 1693106193476,
     "user": {
      "displayName": "Michael Tolan",
      "userId": "01669100208714846840"
     },
     "user_tz": 240
    },
    "id": "IuG8EeJfSpa5",
    "outputId": "89c2d954-4491-4ed2-b51f-8751e4addcc4"
   },
   "outputs": [
    {
     "data": {
      "text/html": [
       "<div>\n",
       "<style scoped>\n",
       "    .dataframe tbody tr th:only-of-type {\n",
       "        vertical-align: middle;\n",
       "    }\n",
       "\n",
       "    .dataframe tbody tr th {\n",
       "        vertical-align: top;\n",
       "    }\n",
       "\n",
       "    .dataframe thead th {\n",
       "        text-align: right;\n",
       "    }\n",
       "</style>\n",
       "<table border=\"1\" class=\"dataframe\">\n",
       "  <thead>\n",
       "    <tr style=\"text-align: right;\">\n",
       "      <th></th>\n",
       "      <th>APPLICATION_TYPE</th>\n",
       "      <th>AFFILIATION</th>\n",
       "      <th>CLASSIFICATION</th>\n",
       "      <th>USE_CASE</th>\n",
       "      <th>ORGANIZATION</th>\n",
       "      <th>STATUS</th>\n",
       "      <th>INCOME_AMT</th>\n",
       "      <th>SPECIAL_CONSIDERATIONS</th>\n",
       "      <th>ASK_AMT</th>\n",
       "      <th>IS_SUCCESSFUL</th>\n",
       "    </tr>\n",
       "  </thead>\n",
       "  <tbody>\n",
       "    <tr>\n",
       "      <th>0</th>\n",
       "      <td>T10</td>\n",
       "      <td>Independent</td>\n",
       "      <td>C1000</td>\n",
       "      <td>ProductDev</td>\n",
       "      <td>Association</td>\n",
       "      <td>1</td>\n",
       "      <td>0</td>\n",
       "      <td>N</td>\n",
       "      <td>5000</td>\n",
       "      <td>1</td>\n",
       "    </tr>\n",
       "    <tr>\n",
       "      <th>1</th>\n",
       "      <td>T3</td>\n",
       "      <td>Independent</td>\n",
       "      <td>C2000</td>\n",
       "      <td>Preservation</td>\n",
       "      <td>Co-operative</td>\n",
       "      <td>1</td>\n",
       "      <td>1-9999</td>\n",
       "      <td>N</td>\n",
       "      <td>108590</td>\n",
       "      <td>1</td>\n",
       "    </tr>\n",
       "    <tr>\n",
       "      <th>2</th>\n",
       "      <td>T5</td>\n",
       "      <td>CompanySponsored</td>\n",
       "      <td>C3000</td>\n",
       "      <td>ProductDev</td>\n",
       "      <td>Association</td>\n",
       "      <td>1</td>\n",
       "      <td>0</td>\n",
       "      <td>N</td>\n",
       "      <td>5000</td>\n",
       "      <td>0</td>\n",
       "    </tr>\n",
       "    <tr>\n",
       "      <th>3</th>\n",
       "      <td>T3</td>\n",
       "      <td>CompanySponsored</td>\n",
       "      <td>C2000</td>\n",
       "      <td>Preservation</td>\n",
       "      <td>Trust</td>\n",
       "      <td>1</td>\n",
       "      <td>10000-24999</td>\n",
       "      <td>N</td>\n",
       "      <td>6692</td>\n",
       "      <td>1</td>\n",
       "    </tr>\n",
       "    <tr>\n",
       "      <th>4</th>\n",
       "      <td>T3</td>\n",
       "      <td>Independent</td>\n",
       "      <td>C1000</td>\n",
       "      <td>Heathcare</td>\n",
       "      <td>Trust</td>\n",
       "      <td>1</td>\n",
       "      <td>100000-499999</td>\n",
       "      <td>N</td>\n",
       "      <td>142590</td>\n",
       "      <td>1</td>\n",
       "    </tr>\n",
       "  </tbody>\n",
       "</table>\n",
       "</div>"
      ],
      "text/plain": [
       "  APPLICATION_TYPE       AFFILIATION CLASSIFICATION      USE_CASE  \\\n",
       "0              T10       Independent          C1000    ProductDev   \n",
       "1               T3       Independent          C2000  Preservation   \n",
       "2               T5  CompanySponsored          C3000    ProductDev   \n",
       "3               T3  CompanySponsored          C2000  Preservation   \n",
       "4               T3       Independent          C1000     Heathcare   \n",
       "\n",
       "   ORGANIZATION  STATUS     INCOME_AMT SPECIAL_CONSIDERATIONS  ASK_AMT  \\\n",
       "0   Association       1              0                      N     5000   \n",
       "1  Co-operative       1         1-9999                      N   108590   \n",
       "2   Association       1              0                      N     5000   \n",
       "3         Trust       1    10000-24999                      N     6692   \n",
       "4         Trust       1  100000-499999                      N   142590   \n",
       "\n",
       "   IS_SUCCESSFUL  \n",
       "0              1  \n",
       "1              1  \n",
       "2              0  \n",
       "3              1  \n",
       "4              1  "
      ]
     },
     "execution_count": 3,
     "metadata": {},
     "output_type": "execute_result"
    }
   ],
   "source": [
    "# Drop the non-beneficial ID columns, 'EIN' and 'NAME'.\n",
    "application_clean = application_df.copy()\n",
    "application_clean.drop(columns=[\"EIN\",\"NAME\"], axis=1, inplace=True)\n",
    "application_clean.head()"
   ]
  },
  {
   "cell_type": "code",
   "execution_count": 4,
   "metadata": {
    "colab": {
     "base_uri": "https://localhost:8080/"
    },
    "executionInfo": {
     "elapsed": 15,
     "status": "ok",
     "timestamp": 1693106193477,
     "user": {
      "displayName": "Michael Tolan",
      "userId": "01669100208714846840"
     },
     "user_tz": 240
    },
    "id": "sFSeJFOjSpa6",
    "outputId": "820b19ca-97b5-48ae-a4bb-4c2539fafaf6"
   },
   "outputs": [
    {
     "data": {
      "text/plain": [
       "APPLICATION_TYPE            17\n",
       "AFFILIATION                  6\n",
       "CLASSIFICATION              71\n",
       "USE_CASE                     5\n",
       "ORGANIZATION                 4\n",
       "STATUS                       2\n",
       "INCOME_AMT                   9\n",
       "SPECIAL_CONSIDERATIONS       2\n",
       "ASK_AMT                   8747\n",
       "IS_SUCCESSFUL                2\n",
       "dtype: int64"
      ]
     },
     "execution_count": 4,
     "metadata": {},
     "output_type": "execute_result"
    }
   ],
   "source": [
    "# Determine the number of unique values in each column.\n",
    "application_clean.nunique()"
   ]
  },
  {
   "cell_type": "code",
   "execution_count": 5,
   "metadata": {
    "executionInfo": {
     "elapsed": 10,
     "status": "ok",
     "timestamp": 1693106193477,
     "user": {
      "displayName": "Michael Tolan",
      "userId": "01669100208714846840"
     },
     "user_tz": 240
    },
    "id": "66JL65jSXoB4"
   },
   "outputs": [],
   "source": [
    "amt = application_clean[\"ASK_AMT\"]"
   ]
  },
  {
   "cell_type": "code",
   "execution_count": 6,
   "metadata": {
    "colab": {
     "base_uri": "https://localhost:8080/"
    },
    "executionInfo": {
     "elapsed": 405,
     "status": "ok",
     "timestamp": 1693106193873,
     "user": {
      "displayName": "Michael Tolan",
      "userId": "01669100208714846840"
     },
     "user_tz": 240
    },
    "id": "cOq2qHCp4Eu0",
    "outputId": "7946d826-a214-4dcd-a298-0d547c6deed8"
   },
   "outputs": [
    {
     "data": {
      "text/plain": [
       "2769198.6820607013"
      ]
     },
     "execution_count": 6,
     "metadata": {},
     "output_type": "execute_result"
    }
   ],
   "source": [
    "amt.mean()"
   ]
  },
  {
   "cell_type": "code",
   "execution_count": 7,
   "metadata": {
    "colab": {
     "base_uri": "https://localhost:8080/"
    },
    "executionInfo": {
     "elapsed": 20,
     "status": "ok",
     "timestamp": 1693106193874,
     "user": {
      "displayName": "Michael Tolan",
      "userId": "01669100208714846840"
     },
     "user_tz": 240
    },
    "id": "mPEzbuveXwg7",
    "outputId": "43653c9a-8db6-49ec-884e-6c5f099d8e8d"
   },
   "outputs": [
    {
     "data": {
      "text/plain": [
       "5000.0"
      ]
     },
     "execution_count": 7,
     "metadata": {},
     "output_type": "execute_result"
    }
   ],
   "source": [
    "amt.median()"
   ]
  },
  {
   "cell_type": "code",
   "execution_count": 8,
   "metadata": {
    "colab": {
     "base_uri": "https://localhost:8080/"
    },
    "executionInfo": {
     "elapsed": 20,
     "status": "ok",
     "timestamp": 1693106193875,
     "user": {
      "displayName": "Michael Tolan",
      "userId": "01669100208714846840"
     },
     "user_tz": 240
    },
    "id": "UB748YPT4E7Z",
    "outputId": "e63c00b1-7e61-4a6a-c6a5-50ed7d11a7ef"
   },
   "outputs": [
    {
     "data": {
      "text/plain": [
       "0              5000\n",
       "20358          5000\n",
       "20356          5000\n",
       "20355          5000\n",
       "20354          5000\n",
       "            ...    \n",
       "31337    3391919220\n",
       "24795    4653011914\n",
       "33678    5591584994\n",
       "34222    8556638692\n",
       "33175    8597806340\n",
       "Name: ASK_AMT, Length: 34299, dtype: int64"
      ]
     },
     "execution_count": 8,
     "metadata": {},
     "output_type": "execute_result"
    }
   ],
   "source": [
    "amt_values = amt.value_counts()\n",
    "amt.sort_values()"
   ]
  },
  {
   "cell_type": "code",
   "execution_count": 9,
   "metadata": {
    "executionInfo": {
     "elapsed": 18,
     "status": "ok",
     "timestamp": 1693106193875,
     "user": {
      "displayName": "Michael Tolan",
      "userId": "01669100208714846840"
     },
     "user_tz": 240
    },
    "id": "tOAztuwabCXt"
   },
   "outputs": [],
   "source": [
    "bins = [0, 5001, 49999, 99999, 249999, 999999, 90000000000]\n",
    "labels = [\" 5K or less \", \" 5K-50K \", \" 50K-100k\", \" 100k-250k \", \" 250k-1M \", \"Over 1M\" ]"
   ]
  },
  {
   "cell_type": "code",
   "execution_count": 10,
   "metadata": {
    "executionInfo": {
     "elapsed": 18,
     "status": "ok",
     "timestamp": 1693106193875,
     "user": {
      "displayName": "Michael Tolan",
      "userId": "01669100208714846840"
     },
     "user_tz": 240
    },
    "id": "4C0jjRAOa_v7"
   },
   "outputs": [],
   "source": [
    "application_clean[\"ASK_BINS\"] = pd.cut(amt, bins, labels=labels)\n",
    "\n",
    "\n"
   ]
  },
  {
   "cell_type": "code",
   "execution_count": 11,
   "metadata": {
    "colab": {
     "base_uri": "https://localhost:8080/",
     "height": 244
    },
    "executionInfo": {
     "elapsed": 18,
     "status": "ok",
     "timestamp": 1693106193876,
     "user": {
      "displayName": "Michael Tolan",
      "userId": "01669100208714846840"
     },
     "user_tz": 240
    },
    "id": "2QghMx2adPZ1",
    "outputId": "5a3d33da-7a4c-48c7-d606-709f8f0e0fb9"
   },
   "outputs": [
    {
     "data": {
      "text/html": [
       "<div>\n",
       "<style scoped>\n",
       "    .dataframe tbody tr th:only-of-type {\n",
       "        vertical-align: middle;\n",
       "    }\n",
       "\n",
       "    .dataframe tbody tr th {\n",
       "        vertical-align: top;\n",
       "    }\n",
       "\n",
       "    .dataframe thead th {\n",
       "        text-align: right;\n",
       "    }\n",
       "</style>\n",
       "<table border=\"1\" class=\"dataframe\">\n",
       "  <thead>\n",
       "    <tr style=\"text-align: right;\">\n",
       "      <th></th>\n",
       "      <th>APPLICATION_TYPE</th>\n",
       "      <th>AFFILIATION</th>\n",
       "      <th>CLASSIFICATION</th>\n",
       "      <th>USE_CASE</th>\n",
       "      <th>ORGANIZATION</th>\n",
       "      <th>STATUS</th>\n",
       "      <th>INCOME_AMT</th>\n",
       "      <th>SPECIAL_CONSIDERATIONS</th>\n",
       "      <th>ASK_AMT</th>\n",
       "      <th>IS_SUCCESSFUL</th>\n",
       "      <th>ASK_BINS</th>\n",
       "    </tr>\n",
       "  </thead>\n",
       "  <tbody>\n",
       "    <tr>\n",
       "      <th>0</th>\n",
       "      <td>T10</td>\n",
       "      <td>Independent</td>\n",
       "      <td>C1000</td>\n",
       "      <td>ProductDev</td>\n",
       "      <td>Association</td>\n",
       "      <td>1</td>\n",
       "      <td>0</td>\n",
       "      <td>N</td>\n",
       "      <td>5000</td>\n",
       "      <td>1</td>\n",
       "      <td>5K or less</td>\n",
       "    </tr>\n",
       "    <tr>\n",
       "      <th>1</th>\n",
       "      <td>T3</td>\n",
       "      <td>Independent</td>\n",
       "      <td>C2000</td>\n",
       "      <td>Preservation</td>\n",
       "      <td>Co-operative</td>\n",
       "      <td>1</td>\n",
       "      <td>1-9999</td>\n",
       "      <td>N</td>\n",
       "      <td>108590</td>\n",
       "      <td>1</td>\n",
       "      <td>100k-250k</td>\n",
       "    </tr>\n",
       "    <tr>\n",
       "      <th>2</th>\n",
       "      <td>T5</td>\n",
       "      <td>CompanySponsored</td>\n",
       "      <td>C3000</td>\n",
       "      <td>ProductDev</td>\n",
       "      <td>Association</td>\n",
       "      <td>1</td>\n",
       "      <td>0</td>\n",
       "      <td>N</td>\n",
       "      <td>5000</td>\n",
       "      <td>0</td>\n",
       "      <td>5K or less</td>\n",
       "    </tr>\n",
       "    <tr>\n",
       "      <th>3</th>\n",
       "      <td>T3</td>\n",
       "      <td>CompanySponsored</td>\n",
       "      <td>C2000</td>\n",
       "      <td>Preservation</td>\n",
       "      <td>Trust</td>\n",
       "      <td>1</td>\n",
       "      <td>10000-24999</td>\n",
       "      <td>N</td>\n",
       "      <td>6692</td>\n",
       "      <td>1</td>\n",
       "      <td>5K-50K</td>\n",
       "    </tr>\n",
       "    <tr>\n",
       "      <th>4</th>\n",
       "      <td>T3</td>\n",
       "      <td>Independent</td>\n",
       "      <td>C1000</td>\n",
       "      <td>Heathcare</td>\n",
       "      <td>Trust</td>\n",
       "      <td>1</td>\n",
       "      <td>100000-499999</td>\n",
       "      <td>N</td>\n",
       "      <td>142590</td>\n",
       "      <td>1</td>\n",
       "      <td>100k-250k</td>\n",
       "    </tr>\n",
       "  </tbody>\n",
       "</table>\n",
       "</div>"
      ],
      "text/plain": [
       "  APPLICATION_TYPE       AFFILIATION CLASSIFICATION      USE_CASE  \\\n",
       "0              T10       Independent          C1000    ProductDev   \n",
       "1               T3       Independent          C2000  Preservation   \n",
       "2               T5  CompanySponsored          C3000    ProductDev   \n",
       "3               T3  CompanySponsored          C2000  Preservation   \n",
       "4               T3       Independent          C1000     Heathcare   \n",
       "\n",
       "   ORGANIZATION  STATUS     INCOME_AMT SPECIAL_CONSIDERATIONS  ASK_AMT  \\\n",
       "0   Association       1              0                      N     5000   \n",
       "1  Co-operative       1         1-9999                      N   108590   \n",
       "2   Association       1              0                      N     5000   \n",
       "3         Trust       1    10000-24999                      N     6692   \n",
       "4         Trust       1  100000-499999                      N   142590   \n",
       "\n",
       "   IS_SUCCESSFUL      ASK_BINS  \n",
       "0              1   5K or less   \n",
       "1              1    100k-250k   \n",
       "2              0   5K or less   \n",
       "3              1       5K-50K   \n",
       "4              1    100k-250k   "
      ]
     },
     "execution_count": 11,
     "metadata": {},
     "output_type": "execute_result"
    }
   ],
   "source": [
    "application_clean.head()"
   ]
  },
  {
   "cell_type": "code",
   "execution_count": 12,
   "metadata": {
    "colab": {
     "base_uri": "https://localhost:8080/"
    },
    "executionInfo": {
     "elapsed": 16,
     "status": "ok",
     "timestamp": 1693106193876,
     "user": {
      "displayName": "Michael Tolan",
      "userId": "01669100208714846840"
     },
     "user_tz": 240
    },
    "id": "LuHphHMtMdES",
    "outputId": "1f42f92b-2d5e-4ccb-b16e-a8907d359566"
   },
   "outputs": [
    {
     "data": {
      "text/plain": [
       " 5K or less     25399\n",
       " 5K-50K          2946\n",
       "Over 1M          1577\n",
       " 250k-1M         1513\n",
       " 100k-250k       1443\n",
       " 50K-100k        1421\n",
       "Name: ASK_BINS, dtype: int64"
      ]
     },
     "execution_count": 12,
     "metadata": {},
     "output_type": "execute_result"
    }
   ],
   "source": [
    "application_clean[\"ASK_BINS\"].value_counts()"
   ]
  },
  {
   "cell_type": "code",
   "execution_count": 13,
   "metadata": {
    "executionInfo": {
     "elapsed": 14,
     "status": "ok",
     "timestamp": 1693106193876,
     "user": {
      "displayName": "Michael Tolan",
      "userId": "01669100208714846840"
     },
     "user_tz": 240
    },
    "id": "mxFffMEmNlgz"
   },
   "outputs": [],
   "source": [
    "application_clean.drop(columns=\"ASK_AMT\", axis=1, inplace=True)"
   ]
  },
  {
   "cell_type": "code",
   "execution_count": 14,
   "metadata": {
    "executionInfo": {
     "elapsed": 14,
     "status": "ok",
     "timestamp": 1693106193877,
     "user": {
      "displayName": "Michael Tolan",
      "userId": "01669100208714846840"
     },
     "user_tz": 240
    },
    "id": "0VM0jL9dyTkN"
   },
   "outputs": [],
   "source": [
    "# Create 3 Income Buckets\n",
    "income_values = application_clean[\"INCOME_AMT\"].value_counts()"
   ]
  },
  {
   "cell_type": "code",
   "execution_count": 15,
   "metadata": {
    "colab": {
     "base_uri": "https://localhost:8080/"
    },
    "executionInfo": {
     "elapsed": 14,
     "status": "ok",
     "timestamp": 1693106193877,
     "user": {
      "displayName": "Michael Tolan",
      "userId": "01669100208714846840"
     },
     "user_tz": 240
    },
    "id": "YxcuB5ULzJub",
    "outputId": "058ceaa0-121e-44f7-966d-be8a7a4fafc5"
   },
   "outputs": [
    {
     "data": {
      "text/plain": [
       "{'0': 24388,\n",
       " '25000-99999': 3747,\n",
       " '100000-499999': 3374,\n",
       " '1M-5M': 955,\n",
       " '1-9999': 728,\n",
       " '10000-24999': 543,\n",
       " '10M-50M': 240,\n",
       " '5M-10M': 185,\n",
       " '50M+': 139}"
      ]
     },
     "execution_count": 15,
     "metadata": {},
     "output_type": "execute_result"
    }
   ],
   "source": [
    "income_dict = income_values.to_dict()\n",
    "income_dict"
   ]
  },
  {
   "cell_type": "code",
   "execution_count": 16,
   "metadata": {
    "colab": {
     "base_uri": "https://localhost:8080/"
    },
    "executionInfo": {
     "elapsed": 374,
     "status": "ok",
     "timestamp": 1693106194239,
     "user": {
      "displayName": "Michael Tolan",
      "userId": "01669100208714846840"
     },
     "user_tz": 240
    },
    "id": "eqFhibaCzTPT",
    "outputId": "696c1c49-9d32-4efc-e706-7f800855a705"
   },
   "outputs": [
    {
     "data": {
      "text/plain": [
       "0               24388\n",
       "25000-499999     7121\n",
       "1M+              2790\n",
       "Name: INCOME_AMT, dtype: int64"
      ]
     },
     "execution_count": 16,
     "metadata": {},
     "output_type": "execute_result"
    }
   ],
   "source": [
    "# Choose a cutoff value and create a list of application types to be replaced\n",
    "# use the variable name `application_types_to_replace`\n",
    "high_income_replace = []\n",
    "mid_income_replace = []\n",
    "\n",
    "for key,value in income_dict.items():\n",
    "  if value < 1000:\n",
    "    high_income_replace.append(key)\n",
    "  elif value > 1000 and value < 4000:\n",
    "    mid_income_replace.append(key)\n",
    "\n",
    "# Replace in dataframe\n",
    "for app in high_income_replace:\n",
    "    application_clean['INCOME_AMT'] = application_clean['INCOME_AMT'].replace(app,\"1M+\")\n",
    "\n",
    "for app in mid_income_replace:\n",
    "    application_clean['INCOME_AMT'] = application_clean['INCOME_AMT'].replace(app,\"25000-499999\")\n",
    "\n",
    "\n",
    "application_clean['INCOME_AMT'].value_counts()\n",
    "\n"
   ]
  },
  {
   "cell_type": "code",
   "execution_count": 17,
   "metadata": {
    "colab": {
     "base_uri": "https://localhost:8080/"
    },
    "executionInfo": {
     "elapsed": 16,
     "status": "ok",
     "timestamp": 1693106194240,
     "user": {
      "displayName": "Michael Tolan",
      "userId": "01669100208714846840"
     },
     "user_tz": 240
    },
    "id": "rkrhUd1TTlig",
    "outputId": "692fa409-7ee7-46d7-a42b-ff6f61b0a238"
   },
   "outputs": [
    {
     "data": {
      "text/plain": [
       "T3     27037\n",
       "T4      1542\n",
       "T6      1216\n",
       "T5      1173\n",
       "T19     1065\n",
       "T8       737\n",
       "T7       725\n",
       "T10      528\n",
       "T9       156\n",
       "T13       66\n",
       "T12       27\n",
       "T2        16\n",
       "T25        3\n",
       "T14        3\n",
       "T29        2\n",
       "T15        2\n",
       "T17        1\n",
       "Name: APPLICATION_TYPE, dtype: int64"
      ]
     },
     "execution_count": 17,
     "metadata": {},
     "output_type": "execute_result"
    }
   ],
   "source": [
    "# Look at APPLICATION_TYPE value counts for binning\n",
    "application_values = application_clean[\"APPLICATION_TYPE\"].value_counts()\n",
    "application_values"
   ]
  },
  {
   "cell_type": "code",
   "execution_count": 18,
   "metadata": {
    "executionInfo": {
     "elapsed": 13,
     "status": "ok",
     "timestamp": 1693106194240,
     "user": {
      "displayName": "Michael Tolan",
      "userId": "01669100208714846840"
     },
     "user_tz": 240
    },
    "id": "5gaaH5QTXIuo"
   },
   "outputs": [],
   "source": [
    "#Compile values into dictionary\n",
    "application_dict = application_values.to_dict()"
   ]
  },
  {
   "cell_type": "code",
   "execution_count": 19,
   "metadata": {
    "colab": {
     "base_uri": "https://localhost:8080/"
    },
    "executionInfo": {
     "elapsed": 12,
     "status": "ok",
     "timestamp": 1693106194240,
     "user": {
      "displayName": "Michael Tolan",
      "userId": "01669100208714846840"
     },
     "user_tz": 240
    },
    "id": "12aP-KUFWSJi",
    "outputId": "b1342e54-9a15-463a-ee7d-5512f4859a2d"
   },
   "outputs": [
    {
     "data": {
      "text/plain": [
       "T3       27037\n",
       "T4        1542\n",
       "Other     1529\n",
       "T6        1216\n",
       "T5        1173\n",
       "T19       1065\n",
       "T8         737\n",
       "Name: APPLICATION_TYPE, dtype: int64"
      ]
     },
     "execution_count": 19,
     "metadata": {},
     "output_type": "execute_result"
    }
   ],
   "source": [
    "# Choose a cutoff value and create a list of application types to be replaced\n",
    "# use the variable name `application_types_to_replace`\n",
    "application_types_to_replace = []\n",
    "\n",
    "for key,value in application_dict.items():\n",
    "  if value < 737:\n",
    "    application_types_to_replace.append(key)\n",
    "\n",
    "# Replace in dataframe\n",
    "for app in application_types_to_replace:\n",
    "    application_clean['APPLICATION_TYPE'] = application_clean['APPLICATION_TYPE'].replace(app,\"Other\")\n",
    "\n",
    "# Check to make sure binning was successful\n",
    "application_clean['APPLICATION_TYPE'].value_counts()"
   ]
  },
  {
   "cell_type": "code",
   "execution_count": 20,
   "metadata": {
    "colab": {
     "base_uri": "https://localhost:8080/"
    },
    "executionInfo": {
     "elapsed": 11,
     "status": "ok",
     "timestamp": 1693106194241,
     "user": {
      "displayName": "Michael Tolan",
      "userId": "01669100208714846840"
     },
     "user_tz": 240
    },
    "id": "MxSZxuOvSpa8",
    "outputId": "58086c55-77eb-4698-94da-90fb0809c614"
   },
   "outputs": [
    {
     "data": {
      "text/plain": [
       "C1000    17326\n",
       "C2000     6074\n",
       "C1200     4837\n",
       "C3000     1918\n",
       "C2100     1883\n",
       "         ...  \n",
       "C4120        1\n",
       "C8210        1\n",
       "C2561        1\n",
       "C4500        1\n",
       "C2150        1\n",
       "Name: CLASSIFICATION, Length: 71, dtype: int64"
      ]
     },
     "execution_count": 20,
     "metadata": {},
     "output_type": "execute_result"
    }
   ],
   "source": [
    "# Look at CLASSIFICATION value counts for binning\n",
    "class_values = application_clean[\"CLASSIFICATION\"].value_counts()\n",
    "class_values"
   ]
  },
  {
   "cell_type": "code",
   "execution_count": 21,
   "metadata": {
    "colab": {
     "base_uri": "https://localhost:8080/"
    },
    "executionInfo": {
     "elapsed": 8,
     "status": "ok",
     "timestamp": 1693106194698,
     "user": {
      "displayName": "Michael Tolan",
      "userId": "01669100208714846840"
     },
     "user_tz": 240
    },
    "id": "keV2tNRaSpa8",
    "outputId": "7ec11f44-0269-4f32-b5a3-3813bfd2cb77"
   },
   "outputs": [
    {
     "data": {
      "text/plain": [
       "C1000    17326\n",
       "C2000     6074\n",
       "C1200     4837\n",
       "C3000     1918\n",
       "C2100     1883\n",
       "C7000      777\n",
       "C1700      287\n",
       "C4000      194\n",
       "C5000      116\n",
       "C1270      114\n",
       "C2700      104\n",
       "C2800       95\n",
       "C7100       75\n",
       "C1300       58\n",
       "C1280       50\n",
       "C1230       36\n",
       "C1400       34\n",
       "C7200       32\n",
       "C2300       32\n",
       "C1240       30\n",
       "C8000       20\n",
       "C7120       18\n",
       "C1500       16\n",
       "C1800       15\n",
       "C6000       15\n",
       "C1250       14\n",
       "C8200       11\n",
       "C1238       10\n",
       "C1278       10\n",
       "C1235        9\n",
       "C1237        9\n",
       "C7210        7\n",
       "C2400        6\n",
       "C1720        6\n",
       "C4100        6\n",
       "C1257        5\n",
       "C1600        5\n",
       "C1260        3\n",
       "C2710        3\n",
       "C0           3\n",
       "C3200        2\n",
       "C1234        2\n",
       "C1246        2\n",
       "C1267        2\n",
       "C1256        2\n",
       "Name: CLASSIFICATION, dtype: int64"
      ]
     },
     "execution_count": 21,
     "metadata": {},
     "output_type": "execute_result"
    }
   ],
   "source": [
    "# You may find it helpful to look at CLASSIFICATION value counts >1\n",
    "class_values_limited = application_clean[\"CLASSIFICATION\"].value_counts()[application_clean[\"CLASSIFICATION\"].value_counts() >1]\n",
    "class_values_limited"
   ]
  },
  {
   "cell_type": "code",
   "execution_count": 22,
   "metadata": {
    "executionInfo": {
     "elapsed": 7,
     "status": "ok",
     "timestamp": 1693106194699,
     "user": {
      "displayName": "Michael Tolan",
      "userId": "01669100208714846840"
     },
     "user_tz": 240
    },
    "id": "N68J2OOlZPV9"
   },
   "outputs": [],
   "source": [
    "# Convert value counts to dict\n",
    "class_dict = class_values.to_dict()"
   ]
  },
  {
   "cell_type": "code",
   "execution_count": 23,
   "metadata": {
    "colab": {
     "base_uri": "https://localhost:8080/"
    },
    "executionInfo": {
     "elapsed": 7,
     "status": "ok",
     "timestamp": 1693106194699,
     "user": {
      "displayName": "Michael Tolan",
      "userId": "01669100208714846840"
     },
     "user_tz": 240
    },
    "id": "mkdEQZlNSpa9",
    "outputId": "dc5075bd-751d-4154-dd4b-d2e74e444533"
   },
   "outputs": [
    {
     "data": {
      "text/plain": [
       "C1000    17326\n",
       "C2000     6074\n",
       "C1200     4837\n",
       "C3000     1918\n",
       "C2100     1883\n",
       "Other     1484\n",
       "C7000      777\n",
       "Name: CLASSIFICATION, dtype: int64"
      ]
     },
     "execution_count": 23,
     "metadata": {},
     "output_type": "execute_result"
    }
   ],
   "source": [
    "# Choose a cutoff value and create a list of classifications to be replaced\n",
    "# use the variable name `classifications_to_replace`\n",
    "classifications_to_replace = []\n",
    "\n",
    "for key,value in class_dict.items():\n",
    "  if value < 777:\n",
    "    classifications_to_replace.append(key)\n",
    "\n",
    "\n",
    "# Replace in dataframe\n",
    "for cls in classifications_to_replace:\n",
    "    application_clean['CLASSIFICATION'] = application_clean['CLASSIFICATION'].replace(cls,\"Other\")\n",
    "\n",
    "# Check to make sure binning was successful\n",
    "application_clean['CLASSIFICATION'].value_counts()"
   ]
  },
  {
   "cell_type": "code",
   "execution_count": 24,
   "metadata": {
    "executionInfo": {
     "elapsed": 5,
     "status": "ok",
     "timestamp": 1693106194700,
     "user": {
      "displayName": "Michael Tolan",
      "userId": "01669100208714846840"
     },
     "user_tz": 240
    },
    "id": "bK1m21ZMUCEd"
   },
   "outputs": [],
   "source": [
    "# application_clean.drop(columns=[\"CLASSIFICATION\", \"APPLICATION_TYPE\", \"INCOME_AMT\"], axis=1, inplace=True)"
   ]
  },
  {
   "cell_type": "code",
   "execution_count": 25,
   "metadata": {
    "colab": {
     "base_uri": "https://localhost:8080/",
     "height": 273
    },
    "executionInfo": {
     "elapsed": 888,
     "status": "ok",
     "timestamp": 1693106195583,
     "user": {
      "displayName": "Michael Tolan",
      "userId": "01669100208714846840"
     },
     "user_tz": 240
    },
    "id": "nnDHZ2q5Spa-",
    "outputId": "2613efab-be2f-4747-a36b-7e861b9982ea"
   },
   "outputs": [
    {
     "data": {
      "text/html": [
       "<div>\n",
       "<style scoped>\n",
       "    .dataframe tbody tr th:only-of-type {\n",
       "        vertical-align: middle;\n",
       "    }\n",
       "\n",
       "    .dataframe tbody tr th {\n",
       "        vertical-align: top;\n",
       "    }\n",
       "\n",
       "    .dataframe thead th {\n",
       "        text-align: right;\n",
       "    }\n",
       "</style>\n",
       "<table border=\"1\" class=\"dataframe\">\n",
       "  <thead>\n",
       "    <tr style=\"text-align: right;\">\n",
       "      <th></th>\n",
       "      <th>IS_SUCCESSFUL</th>\n",
       "      <th>ORGANIZATION_Association</th>\n",
       "      <th>ORGANIZATION_Co-operative</th>\n",
       "      <th>ORGANIZATION_Corporation</th>\n",
       "      <th>ORGANIZATION_Trust</th>\n",
       "      <th>CLASSIFICATION_C1000</th>\n",
       "      <th>CLASSIFICATION_C1200</th>\n",
       "      <th>CLASSIFICATION_C2000</th>\n",
       "      <th>CLASSIFICATION_C2100</th>\n",
       "      <th>CLASSIFICATION_C3000</th>\n",
       "      <th>...</th>\n",
       "      <th>USE_CASE_Preservation</th>\n",
       "      <th>USE_CASE_ProductDev</th>\n",
       "      <th>AFFILIATION_CompanySponsored</th>\n",
       "      <th>AFFILIATION_Family/Parent</th>\n",
       "      <th>AFFILIATION_Independent</th>\n",
       "      <th>AFFILIATION_National</th>\n",
       "      <th>AFFILIATION_Other</th>\n",
       "      <th>AFFILIATION_Regional</th>\n",
       "      <th>STATUS_0</th>\n",
       "      <th>STATUS_1</th>\n",
       "    </tr>\n",
       "  </thead>\n",
       "  <tbody>\n",
       "    <tr>\n",
       "      <th>0</th>\n",
       "      <td>1</td>\n",
       "      <td>1</td>\n",
       "      <td>0</td>\n",
       "      <td>0</td>\n",
       "      <td>0</td>\n",
       "      <td>1</td>\n",
       "      <td>0</td>\n",
       "      <td>0</td>\n",
       "      <td>0</td>\n",
       "      <td>0</td>\n",
       "      <td>...</td>\n",
       "      <td>0</td>\n",
       "      <td>1</td>\n",
       "      <td>0</td>\n",
       "      <td>0</td>\n",
       "      <td>1</td>\n",
       "      <td>0</td>\n",
       "      <td>0</td>\n",
       "      <td>0</td>\n",
       "      <td>0</td>\n",
       "      <td>1</td>\n",
       "    </tr>\n",
       "    <tr>\n",
       "      <th>1</th>\n",
       "      <td>1</td>\n",
       "      <td>0</td>\n",
       "      <td>1</td>\n",
       "      <td>0</td>\n",
       "      <td>0</td>\n",
       "      <td>0</td>\n",
       "      <td>0</td>\n",
       "      <td>1</td>\n",
       "      <td>0</td>\n",
       "      <td>0</td>\n",
       "      <td>...</td>\n",
       "      <td>1</td>\n",
       "      <td>0</td>\n",
       "      <td>0</td>\n",
       "      <td>0</td>\n",
       "      <td>1</td>\n",
       "      <td>0</td>\n",
       "      <td>0</td>\n",
       "      <td>0</td>\n",
       "      <td>0</td>\n",
       "      <td>1</td>\n",
       "    </tr>\n",
       "    <tr>\n",
       "      <th>2</th>\n",
       "      <td>0</td>\n",
       "      <td>1</td>\n",
       "      <td>0</td>\n",
       "      <td>0</td>\n",
       "      <td>0</td>\n",
       "      <td>0</td>\n",
       "      <td>0</td>\n",
       "      <td>0</td>\n",
       "      <td>0</td>\n",
       "      <td>1</td>\n",
       "      <td>...</td>\n",
       "      <td>0</td>\n",
       "      <td>1</td>\n",
       "      <td>1</td>\n",
       "      <td>0</td>\n",
       "      <td>0</td>\n",
       "      <td>0</td>\n",
       "      <td>0</td>\n",
       "      <td>0</td>\n",
       "      <td>0</td>\n",
       "      <td>1</td>\n",
       "    </tr>\n",
       "    <tr>\n",
       "      <th>3</th>\n",
       "      <td>1</td>\n",
       "      <td>0</td>\n",
       "      <td>0</td>\n",
       "      <td>0</td>\n",
       "      <td>1</td>\n",
       "      <td>0</td>\n",
       "      <td>0</td>\n",
       "      <td>1</td>\n",
       "      <td>0</td>\n",
       "      <td>0</td>\n",
       "      <td>...</td>\n",
       "      <td>1</td>\n",
       "      <td>0</td>\n",
       "      <td>1</td>\n",
       "      <td>0</td>\n",
       "      <td>0</td>\n",
       "      <td>0</td>\n",
       "      <td>0</td>\n",
       "      <td>0</td>\n",
       "      <td>0</td>\n",
       "      <td>1</td>\n",
       "    </tr>\n",
       "    <tr>\n",
       "      <th>4</th>\n",
       "      <td>1</td>\n",
       "      <td>0</td>\n",
       "      <td>0</td>\n",
       "      <td>0</td>\n",
       "      <td>1</td>\n",
       "      <td>1</td>\n",
       "      <td>0</td>\n",
       "      <td>0</td>\n",
       "      <td>0</td>\n",
       "      <td>0</td>\n",
       "      <td>...</td>\n",
       "      <td>0</td>\n",
       "      <td>0</td>\n",
       "      <td>0</td>\n",
       "      <td>0</td>\n",
       "      <td>1</td>\n",
       "      <td>0</td>\n",
       "      <td>0</td>\n",
       "      <td>0</td>\n",
       "      <td>0</td>\n",
       "      <td>1</td>\n",
       "    </tr>\n",
       "  </tbody>\n",
       "</table>\n",
       "<p>5 rows × 43 columns</p>\n",
       "</div>"
      ],
      "text/plain": [
       "   IS_SUCCESSFUL  ORGANIZATION_Association  ORGANIZATION_Co-operative  \\\n",
       "0              1                         1                          0   \n",
       "1              1                         0                          1   \n",
       "2              0                         1                          0   \n",
       "3              1                         0                          0   \n",
       "4              1                         0                          0   \n",
       "\n",
       "   ORGANIZATION_Corporation  ORGANIZATION_Trust  CLASSIFICATION_C1000  \\\n",
       "0                         0                   0                     1   \n",
       "1                         0                   0                     0   \n",
       "2                         0                   0                     0   \n",
       "3                         0                   1                     0   \n",
       "4                         0                   1                     1   \n",
       "\n",
       "   CLASSIFICATION_C1200  CLASSIFICATION_C2000  CLASSIFICATION_C2100  \\\n",
       "0                     0                     0                     0   \n",
       "1                     0                     1                     0   \n",
       "2                     0                     0                     0   \n",
       "3                     0                     1                     0   \n",
       "4                     0                     0                     0   \n",
       "\n",
       "   CLASSIFICATION_C3000  ...  USE_CASE_Preservation  USE_CASE_ProductDev  \\\n",
       "0                     0  ...                      0                    1   \n",
       "1                     0  ...                      1                    0   \n",
       "2                     1  ...                      0                    1   \n",
       "3                     0  ...                      1                    0   \n",
       "4                     0  ...                      0                    0   \n",
       "\n",
       "   AFFILIATION_CompanySponsored  AFFILIATION_Family/Parent  \\\n",
       "0                             0                          0   \n",
       "1                             0                          0   \n",
       "2                             1                          0   \n",
       "3                             1                          0   \n",
       "4                             0                          0   \n",
       "\n",
       "   AFFILIATION_Independent  AFFILIATION_National  AFFILIATION_Other  \\\n",
       "0                        1                     0                  0   \n",
       "1                        1                     0                  0   \n",
       "2                        0                     0                  0   \n",
       "3                        0                     0                  0   \n",
       "4                        1                     0                  0   \n",
       "\n",
       "   AFFILIATION_Regional  STATUS_0  STATUS_1  \n",
       "0                     0         0         1  \n",
       "1                     0         0         1  \n",
       "2                     0         0         1  \n",
       "3                     0         0         1  \n",
       "4                     0         0         1  \n",
       "\n",
       "[5 rows x 43 columns]"
      ]
     },
     "execution_count": 25,
     "metadata": {},
     "output_type": "execute_result"
    }
   ],
   "source": [
    "# Convert categorical data to numeric with `pd.get_dummies`\n",
    "application_dummies = pd.get_dummies(application_clean, columns=[\"ORGANIZATION\",\"CLASSIFICATION\", \"APPLICATION_TYPE\", \"INCOME_AMT\", \\\n",
    "                                                                 \"ASK_BINS\",\"SPECIAL_CONSIDERATIONS\",\"USE_CASE\",\"AFFILIATION\", \"STATUS\"])\n",
    "\n",
    "application_dummies.head()"
   ]
  },
  {
   "cell_type": "code",
   "execution_count": 26,
   "metadata": {
    "executionInfo": {
     "elapsed": 17,
     "status": "ok",
     "timestamp": 1693106195589,
     "user": {
      "displayName": "Michael Tolan",
      "userId": "01669100208714846840"
     },
     "user_tz": 240
    },
    "id": "hIy9V65rSpa-"
   },
   "outputs": [],
   "source": [
    "# Split our preprocessed data into our features and target arrays\n",
    "y = application_dummies[\"IS_SUCCESSFUL\"].values.reshape(-1, 1)\n",
    "X = application_dummies.copy()\n",
    "X.drop(columns=\"IS_SUCCESSFUL\", axis=1, inplace=True)\n",
    "\n",
    "# Split the preprocessed data into a training and testing dataset\n",
    "X_train, X_test, y_train, y_test = train_test_split(X, y, random_state=1)"
   ]
  },
  {
   "cell_type": "code",
   "execution_count": 27,
   "metadata": {
    "executionInfo": {
     "elapsed": 17,
     "status": "ok",
     "timestamp": 1693106195590,
     "user": {
      "displayName": "Michael Tolan",
      "userId": "01669100208714846840"
     },
     "user_tz": 240
    },
    "id": "RpVx3LGASpa-"
   },
   "outputs": [],
   "source": [
    "# Create a StandardScaler instances\n",
    "scaler = StandardScaler()\n",
    "\n",
    "# Fit the StandardScaler\n",
    "X_scaler = scaler.fit(X_train)\n",
    "\n",
    "# Scale the data\n",
    "X_train_scaled = X_scaler.transform(X_train)\n",
    "X_test_scaled = X_scaler.transform(X_test)"
   ]
  },
  {
   "cell_type": "markdown",
   "metadata": {
    "id": "d6fqbMEVSpa_"
   },
   "source": [
    "## Compile, Train and Evaluate the Model"
   ]
  },
  {
   "cell_type": "code",
   "execution_count": 28,
   "metadata": {
    "colab": {
     "base_uri": "https://localhost:8080/"
    },
    "executionInfo": {
     "elapsed": 1031,
     "status": "ok",
     "timestamp": 1693106196604,
     "user": {
      "displayName": "Michael Tolan",
      "userId": "01669100208714846840"
     },
     "user_tz": 240
    },
    "id": "e5q9VOwtSpa_",
    "outputId": "4a1a72ac-4c0c-4d67-f96e-4b7879db0cd0"
   },
   "outputs": [
    {
     "name": "stderr",
     "output_type": "stream",
     "text": [
      "2023-08-27 17:17:34.437139: I tensorflow/core/platform/cpu_feature_guard.cc:193] This TensorFlow binary is optimized with oneAPI Deep Neural Network Library (oneDNN) to use the following CPU instructions in performance-critical operations:  SSE4.1 SSE4.2 AVX AVX2 FMA\n",
      "To enable them in other operations, rebuild TensorFlow with the appropriate compiler flags.\n"
     ]
    },
    {
     "name": "stdout",
     "output_type": "stream",
     "text": [
      "Model: \"sequential\"\n",
      "_________________________________________________________________\n",
      " Layer (type)                Output Shape              Param #   \n",
      "=================================================================\n",
      " dense (Dense)               (None, 100)               4300      \n",
      "                                                                 \n",
      " dense_1 (Dense)             (None, 500)               50500     \n",
      "                                                                 \n",
      " dense_2 (Dense)             (None, 500)               250500    \n",
      "                                                                 \n",
      " dense_3 (Dense)             (None, 1)                 501       \n",
      "                                                                 \n",
      "=================================================================\n",
      "Total params: 305,801\n",
      "Trainable params: 305,801\n",
      "Non-trainable params: 0\n",
      "_________________________________________________________________\n"
     ]
    }
   ],
   "source": [
    "# Define the model - deep neural net, i.e., the number of input features and hidden nodes for each layer.\n",
    "#\n",
    "\n",
    "# Define the model - deep neural net\n",
    "number_input_features = len(X_train_scaled[0])\n",
    "hidden_nodes_layer1 =  100\n",
    "hidden_nodes_layer2 = 500\n",
    "hidden_nodes_layer3 = 500\n",
    "hidden_nodes_layer4 = 2000\n",
    "# hidden_nodes_layer4 = 100\n",
    "# hidden_nodes_layer4 = 100\n",
    "# hidden_nodes_layer4 = 100\n",
    "\n",
    "nn = tf.keras.models.Sequential()\n",
    "\n",
    "# First hidden layer\n",
    "nn.add(tf.keras.layers.Dense(units=hidden_nodes_layer1, input_dim=number_input_features, activation=\"relu\"))\n",
    "\n",
    "# Second hidden layer\n",
    "nn.add(tf.keras.layers.Dense(units=hidden_nodes_layer2, activation=\"relu\"))\n",
    "\n",
    "# Third hidden layer\n",
    "nn.add(tf.keras.layers.Dense(units=hidden_nodes_layer3, activation=\"relu\"))\n",
    "\n",
    "# # Fourth hidden layer\n",
    "# nn.add(tf.keras.layers.Dense(units=hidden_nodes_layer4, activation=\"relu\"))\n",
    "\n",
    "# # Fourth hidden layer\n",
    "# nn.add(tf.keras.layers.Dense(units=hidden_nodes_layer4, activation=\"relu\"))\n",
    "\n",
    "# # # Fourth hidden layer\n",
    "# nn.add(tf.keras.layers.Dense(units=hidden_nodes_layer4, activation=\"relu\"))\n",
    "\n",
    "# # # Fourth hidden layer\n",
    "# nn.add(tf.keras.layers.Dense(units=hidden_nodes_layer4, activation=\"relu\"))\n",
    "\n",
    "# # # Fourth hidden layer\n",
    "# nn.add(tf.keras.layers.Dense(units=hidden_nodes_layer4, activation=\"relu\"))\n",
    "\n",
    "\n",
    "# Output layer\n",
    "nn.add(tf.keras.layers.Dense(units=1, activation=\"sigmoid\"))\n",
    "\n",
    "# Check the structure of the model\n",
    "nn.summary()\n"
   ]
  },
  {
   "cell_type": "code",
   "execution_count": 29,
   "metadata": {
    "executionInfo": {
     "elapsed": 5,
     "status": "ok",
     "timestamp": 1693106196605,
     "user": {
      "displayName": "Michael Tolan",
      "userId": "01669100208714846840"
     },
     "user_tz": 240
    },
    "id": "oSTUXRZJSpa_"
   },
   "outputs": [],
   "source": [
    "# Compile the model\n",
    "nn.compile(loss=\"binary_crossentropy\", optimizer=\"adam\", metrics=[\"accuracy\"])"
   ]
  },
  {
   "cell_type": "code",
   "execution_count": 30,
   "metadata": {
    "colab": {
     "base_uri": "https://localhost:8080/"
    },
    "id": "6eC-ff4USpa_",
    "outputId": "ff5be6c9-f912-4d1c-fb9c-b29aff87fd7f"
   },
   "outputs": [
    {
     "name": "stdout",
     "output_type": "stream",
     "text": [
      "Epoch 1/100\n",
      "804/804 [==============================] - 10s 9ms/step - loss: 0.5691 - accuracy: 0.7219\n",
      "Epoch 2/100\n",
      "804/804 [==============================] - 7s 9ms/step - loss: 0.5548 - accuracy: 0.7294\n",
      "Epoch 3/100\n",
      "804/804 [==============================] - 7s 9ms/step - loss: 0.5520 - accuracy: 0.7310\n",
      "Epoch 4/100\n",
      "804/804 [==============================] - 7s 9ms/step - loss: 0.5494 - accuracy: 0.7317\n",
      "Epoch 5/100\n",
      "804/804 [==============================] - 7s 9ms/step - loss: 0.5478 - accuracy: 0.7336\n",
      "Epoch 6/100\n",
      "804/804 [==============================] - 8s 10ms/step - loss: 0.5465 - accuracy: 0.7337\n",
      "Epoch 7/100\n",
      "804/804 [==============================] - 8s 10ms/step - loss: 0.5452 - accuracy: 0.7351\n",
      "Epoch 8/100\n",
      "804/804 [==============================] - 8s 10ms/step - loss: 0.5450 - accuracy: 0.7348\n",
      "Epoch 9/100\n",
      "804/804 [==============================] - 8s 9ms/step - loss: 0.5435 - accuracy: 0.7358\n",
      "Epoch 10/100\n",
      "804/804 [==============================] - 8s 10ms/step - loss: 0.5433 - accuracy: 0.7365\n",
      "Epoch 11/100\n",
      "804/804 [==============================] - 7s 9ms/step - loss: 0.5424 - accuracy: 0.7360\n",
      "Epoch 12/100\n",
      "804/804 [==============================] - 7s 9ms/step - loss: 0.5421 - accuracy: 0.7349\n",
      "Epoch 13/100\n",
      "804/804 [==============================] - 7s 9ms/step - loss: 0.5409 - accuracy: 0.7371\n",
      "Epoch 14/100\n",
      "804/804 [==============================] - 7s 9ms/step - loss: 0.5404 - accuracy: 0.7373\n",
      "Epoch 15/100\n",
      "804/804 [==============================] - 7s 9ms/step - loss: 0.5394 - accuracy: 0.7372\n",
      "Epoch 16/100\n",
      "804/804 [==============================] - 7s 9ms/step - loss: 0.5392 - accuracy: 0.7385\n",
      "Epoch 17/100\n",
      "804/804 [==============================] - 7s 9ms/step - loss: 0.5391 - accuracy: 0.7387\n",
      "Epoch 18/100\n",
      "804/804 [==============================] - 7s 9ms/step - loss: 0.5378 - accuracy: 0.7386\n",
      "Epoch 19/100\n",
      "804/804 [==============================] - 7s 9ms/step - loss: 0.5375 - accuracy: 0.7390\n",
      "Epoch 20/100\n",
      "804/804 [==============================] - 7s 9ms/step - loss: 0.5372 - accuracy: 0.7391\n",
      "Epoch 21/100\n",
      "804/804 [==============================] - 8s 9ms/step - loss: 0.5368 - accuracy: 0.7390\n",
      "Epoch 22/100\n",
      "804/804 [==============================] - 6s 8ms/step - loss: 0.5360 - accuracy: 0.7400\n",
      "Epoch 23/100\n",
      "804/804 [==============================] - 7s 9ms/step - loss: 0.5358 - accuracy: 0.7399\n",
      "Epoch 24/100\n",
      "804/804 [==============================] - 7s 9ms/step - loss: 0.5353 - accuracy: 0.7399\n",
      "Epoch 25/100\n",
      "804/804 [==============================] - 7s 9ms/step - loss: 0.5342 - accuracy: 0.7405\n",
      "Epoch 26/100\n",
      "804/804 [==============================] - 7s 9ms/step - loss: 0.5347 - accuracy: 0.7400\n",
      "Epoch 27/100\n",
      "804/804 [==============================] - 7s 9ms/step - loss: 0.5341 - accuracy: 0.7403\n",
      "Epoch 28/100\n",
      "804/804 [==============================] - 7s 9ms/step - loss: 0.5337 - accuracy: 0.7404\n",
      "Epoch 29/100\n",
      "804/804 [==============================] - 7s 9ms/step - loss: 0.5336 - accuracy: 0.7407\n",
      "Epoch 30/100\n",
      "804/804 [==============================] - 7s 9ms/step - loss: 0.5331 - accuracy: 0.7409\n",
      "Epoch 31/100\n",
      "804/804 [==============================] - 7s 8ms/step - loss: 0.5322 - accuracy: 0.7414\n",
      "Epoch 32/100\n",
      "804/804 [==============================] - 7s 9ms/step - loss: 0.5329 - accuracy: 0.7410\n",
      "Epoch 33/100\n",
      "804/804 [==============================] - 7s 9ms/step - loss: 0.5319 - accuracy: 0.7409\n",
      "Epoch 34/100\n",
      "804/804 [==============================] - 7s 9ms/step - loss: 0.5320 - accuracy: 0.7404\n",
      "Epoch 35/100\n",
      "804/804 [==============================] - 7s 9ms/step - loss: 0.5314 - accuracy: 0.7411\n",
      "Epoch 36/100\n",
      "804/804 [==============================] - 8s 10ms/step - loss: 0.5317 - accuracy: 0.7411\n",
      "Epoch 37/100\n",
      "804/804 [==============================] - 7s 9ms/step - loss: 0.5311 - accuracy: 0.7419\n",
      "Epoch 38/100\n",
      "804/804 [==============================] - 7s 8ms/step - loss: 0.5313 - accuracy: 0.7414\n",
      "Epoch 39/100\n",
      "804/804 [==============================] - 7s 8ms/step - loss: 0.5312 - accuracy: 0.7406\n",
      "Epoch 40/100\n",
      "804/804 [==============================] - 7s 9ms/step - loss: 0.5307 - accuracy: 0.7409\n",
      "Epoch 41/100\n",
      "804/804 [==============================] - 8s 10ms/step - loss: 0.5310 - accuracy: 0.7409\n",
      "Epoch 42/100\n",
      "804/804 [==============================] - 9s 11ms/step - loss: 0.5306 - accuracy: 0.7414\n",
      "Epoch 43/100\n",
      "804/804 [==============================] - 9s 12ms/step - loss: 0.5302 - accuracy: 0.7417\n",
      "Epoch 44/100\n",
      "804/804 [==============================] - 9s 11ms/step - loss: 0.5294 - accuracy: 0.7418\n",
      "Epoch 45/100\n",
      "804/804 [==============================] - 9s 11ms/step - loss: 0.5289 - accuracy: 0.7419\n",
      "Epoch 46/100\n",
      "804/804 [==============================] - 8s 10ms/step - loss: 0.5313 - accuracy: 0.7417\n",
      "Epoch 47/100\n",
      "804/804 [==============================] - 8s 10ms/step - loss: 0.5296 - accuracy: 0.7420\n",
      "Epoch 48/100\n",
      "804/804 [==============================] - 8s 11ms/step - loss: 0.5286 - accuracy: 0.7423\n",
      "Epoch 49/100\n",
      "804/804 [==============================] - 9s 11ms/step - loss: 0.5294 - accuracy: 0.7414\n",
      "Epoch 50/100\n",
      "804/804 [==============================] - 9s 11ms/step - loss: 0.5292 - accuracy: 0.7423\n",
      "Epoch 51/100\n",
      "804/804 [==============================] - 9s 11ms/step - loss: 0.5297 - accuracy: 0.7420\n",
      "Epoch 52/100\n",
      "804/804 [==============================] - 9s 11ms/step - loss: 0.5287 - accuracy: 0.7423\n",
      "Epoch 53/100\n",
      "804/804 [==============================] - 9s 11ms/step - loss: 0.5299 - accuracy: 0.7421\n",
      "Epoch 54/100\n",
      "804/804 [==============================] - 9s 11ms/step - loss: 0.5283 - accuracy: 0.7426\n",
      "Epoch 55/100\n",
      "804/804 [==============================] - 9s 11ms/step - loss: 0.5288 - accuracy: 0.7420\n",
      "Epoch 56/100\n",
      "804/804 [==============================] - 9s 11ms/step - loss: 0.5278 - accuracy: 0.7418\n",
      "Epoch 57/100\n",
      "804/804 [==============================] - 9s 11ms/step - loss: 0.5283 - accuracy: 0.7422\n",
      "Epoch 58/100\n",
      "804/804 [==============================] - 9s 11ms/step - loss: 0.5306 - accuracy: 0.7421\n",
      "Epoch 59/100\n",
      "804/804 [==============================] - 9s 12ms/step - loss: 0.5290 - accuracy: 0.7421\n",
      "Epoch 60/100\n",
      "804/804 [==============================] - 9s 11ms/step - loss: 0.5277 - accuracy: 0.7430\n",
      "Epoch 61/100\n",
      "804/804 [==============================] - 9s 11ms/step - loss: 0.5287 - accuracy: 0.7420\n",
      "Epoch 62/100\n",
      "804/804 [==============================] - 9s 11ms/step - loss: 0.5286 - accuracy: 0.7423\n",
      "Epoch 63/100\n",
      "804/804 [==============================] - 9s 11ms/step - loss: 0.5408 - accuracy: 0.7422\n",
      "Epoch 64/100\n",
      "804/804 [==============================] - 9s 11ms/step - loss: 0.5302 - accuracy: 0.7414\n",
      "Epoch 65/100\n",
      "804/804 [==============================] - 9s 11ms/step - loss: 0.5269 - accuracy: 0.7430\n",
      "Epoch 66/100\n",
      "804/804 [==============================] - 9s 11ms/step - loss: 0.5275 - accuracy: 0.7432\n",
      "Epoch 67/100\n",
      "804/804 [==============================] - 9s 11ms/step - loss: 0.5273 - accuracy: 0.7421\n",
      "Epoch 68/100\n",
      "804/804 [==============================] - 9s 12ms/step - loss: 0.5272 - accuracy: 0.7418\n",
      "Epoch 69/100\n",
      "804/804 [==============================] - 9s 11ms/step - loss: 0.5268 - accuracy: 0.7428\n",
      "Epoch 70/100\n",
      "804/804 [==============================] - 9s 11ms/step - loss: 0.5267 - accuracy: 0.7430\n",
      "Epoch 71/100\n",
      "804/804 [==============================] - 9s 11ms/step - loss: 0.5274 - accuracy: 0.7417\n",
      "Epoch 72/100\n",
      "804/804 [==============================] - 9s 11ms/step - loss: 0.5295 - accuracy: 0.7421\n",
      "Epoch 73/100\n",
      "804/804 [==============================] - 9s 11ms/step - loss: 0.5285 - accuracy: 0.7417\n",
      "Epoch 74/100\n",
      "804/804 [==============================] - 9s 12ms/step - loss: 0.5274 - accuracy: 0.7428\n",
      "Epoch 75/100\n",
      "804/804 [==============================] - 10s 12ms/step - loss: 0.5275 - accuracy: 0.7420\n",
      "Epoch 76/100\n",
      "804/804 [==============================] - 9s 11ms/step - loss: 0.5278 - accuracy: 0.7422\n",
      "Epoch 77/100\n",
      "804/804 [==============================] - 10s 12ms/step - loss: 0.5281 - accuracy: 0.7423\n",
      "Epoch 78/100\n",
      "804/804 [==============================] - 10s 12ms/step - loss: 0.5266 - accuracy: 0.7424\n",
      "Epoch 79/100\n",
      "804/804 [==============================] - 11s 13ms/step - loss: 0.5262 - accuracy: 0.7423\n",
      "Epoch 80/100\n"
     ]
    },
    {
     "name": "stdout",
     "output_type": "stream",
     "text": [
      "804/804 [==============================] - 9s 11ms/step - loss: 0.5270 - accuracy: 0.7426\n",
      "Epoch 81/100\n",
      "804/804 [==============================] - 9s 11ms/step - loss: 0.5297 - accuracy: 0.7421\n",
      "Epoch 82/100\n",
      "804/804 [==============================] - 8s 10ms/step - loss: 0.5274 - accuracy: 0.7424\n",
      "Epoch 83/100\n",
      "804/804 [==============================] - 8s 11ms/step - loss: 0.5273 - accuracy: 0.7426\n",
      "Epoch 84/100\n",
      "804/804 [==============================] - 9s 11ms/step - loss: 0.5268 - accuracy: 0.7431\n",
      "Epoch 85/100\n",
      "804/804 [==============================] - 9s 11ms/step - loss: 0.5270 - accuracy: 0.7419\n",
      "Epoch 86/100\n",
      "804/804 [==============================] - 8s 10ms/step - loss: 0.5272 - accuracy: 0.7424\n",
      "Epoch 87/100\n",
      "804/804 [==============================] - 9s 11ms/step - loss: 0.5277 - accuracy: 0.7417\n",
      "Epoch 88/100\n",
      "804/804 [==============================] - 9s 11ms/step - loss: 0.5268 - accuracy: 0.7428\n",
      "Epoch 89/100\n",
      "804/804 [==============================] - 9s 12ms/step - loss: 0.5277 - accuracy: 0.7422\n",
      "Epoch 90/100\n",
      "804/804 [==============================] - 9s 11ms/step - loss: 0.5262 - accuracy: 0.7426\n",
      "Epoch 91/100\n",
      "804/804 [==============================] - 9s 11ms/step - loss: 0.5271 - accuracy: 0.7425\n",
      "Epoch 92/100\n",
      "804/804 [==============================] - 10s 12ms/step - loss: 0.5278 - accuracy: 0.7424\n",
      "Epoch 93/100\n",
      "804/804 [==============================] - 10s 12ms/step - loss: 0.5267 - accuracy: 0.7428\n",
      "Epoch 94/100\n",
      "804/804 [==============================] - 10s 12ms/step - loss: 0.5260 - accuracy: 0.7430\n",
      "Epoch 95/100\n",
      "804/804 [==============================] - 10s 12ms/step - loss: 0.5267 - accuracy: 0.7432\n",
      "Epoch 96/100\n",
      "804/804 [==============================] - 10s 12ms/step - loss: 0.5259 - accuracy: 0.7425\n",
      "Epoch 97/100\n",
      "804/804 [==============================] - 9s 12ms/step - loss: 0.5260 - accuracy: 0.7428\n",
      "Epoch 98/100\n",
      "804/804 [==============================] - 11s 13ms/step - loss: 0.5305 - accuracy: 0.7429\n",
      "Epoch 99/100\n",
      "804/804 [==============================] - 12s 15ms/step - loss: 0.5280 - accuracy: 0.7424\n",
      "Epoch 100/100\n",
      "804/804 [==============================] - 12s 15ms/step - loss: 0.5763 - accuracy: 0.7403\n"
     ]
    }
   ],
   "source": [
    "# Train the model\n",
    "fit_model = nn.fit(X_train_scaled,y_train,epochs=100)\n"
   ]
  },
  {
   "cell_type": "code",
   "execution_count": 31,
   "metadata": {
    "id": "27VmTkCESpbA"
   },
   "outputs": [
    {
     "name": "stdout",
     "output_type": "stream",
     "text": [
      "268/268 - 4s - loss: 0.5905 - accuracy: 0.7287 - 4s/epoch - 17ms/step\n",
      "Loss: 0.5905022025108337, Accuracy: 0.7287463545799255\n"
     ]
    }
   ],
   "source": [
    "# Evaluate the model using the test data\n",
    "model_loss, model_accuracy = nn.evaluate(X_test_scaled,y_test,verbose=2)\n",
    "print(f\"Loss: {model_loss}, Accuracy: {model_accuracy}\")"
   ]
  },
  {
   "cell_type": "code",
   "execution_count": 34,
   "metadata": {
    "id": "spBkDiTFSpbA"
   },
   "outputs": [],
   "source": [
    "# Export our model to HDF5\n",
    "nn.save('AlphabetSoupCharity_Optimization_2b.h5')\n",
    "\n"
   ]
  },
  {
   "cell_type": "code",
   "execution_count": null,
   "metadata": {},
   "outputs": [],
   "source": []
  }
 ],
 "metadata": {
  "colab": {
   "provenance": [
    {
     "file_id": "15bvWden_grtUJkqepwwIuDtv-1opsuQd",
     "timestamp": 1693080502288
    },
    {
     "file_id": "1MiuTWeSXgk-DupRikjegqjmp5B6f07Q6",
     "timestamp": 1692979157863
    },
    {
     "file_id": "15V4kxRiqO_cr5umfAV5d5Zb3TQ7BSoOm",
     "timestamp": 1692915792782
    }
   ]
  },
  "kernelspec": {
   "display_name": "Python 3 (ipykernel)",
   "language": "python",
   "name": "python3"
  },
  "language_info": {
   "codemirror_mode": {
    "name": "ipython",
    "version": 3
   },
   "file_extension": ".py",
   "mimetype": "text/x-python",
   "name": "python",
   "nbconvert_exporter": "python",
   "pygments_lexer": "ipython3",
   "version": "3.10.10"
  },
  "vscode": {
   "interpreter": {
    "hash": "31f2aee4e71d21fbe5cf8b01ff0e069b9275f58929596ceb00d14d90e3e16cd6"
   }
  }
 },
 "nbformat": 4,
 "nbformat_minor": 1
}
