{
 "cells": [
  {
   "cell_type": "markdown",
   "metadata": {
    "id": "gC_RdhS6Spaz"
   },
   "source": [
    "## Preprocessing"
   ]
  },
  {
   "cell_type": "code",
   "execution_count": 53,
   "metadata": {
    "colab": {
     "base_uri": "https://localhost:8080/",
     "height": 452
    },
    "executionInfo": {
     "elapsed": 1198,
     "status": "ok",
     "timestamp": 1692981284703,
     "user": {
      "displayName": "Michael Tolan",
      "userId": "01669100208714846840"
     },
     "user_tz": 240
    },
    "id": "kjG6DD5aSpa3",
    "outputId": "637c28fc-1f4e-4253-86bb-e9770a8e5a61"
   },
   "outputs": [
    {
     "data": {
      "text/html": [
       "<div>\n",
       "<style scoped>\n",
       "    .dataframe tbody tr th:only-of-type {\n",
       "        vertical-align: middle;\n",
       "    }\n",
       "\n",
       "    .dataframe tbody tr th {\n",
       "        vertical-align: top;\n",
       "    }\n",
       "\n",
       "    .dataframe thead th {\n",
       "        text-align: right;\n",
       "    }\n",
       "</style>\n",
       "<table border=\"1\" class=\"dataframe\">\n",
       "  <thead>\n",
       "    <tr style=\"text-align: right;\">\n",
       "      <th></th>\n",
       "      <th>EIN</th>\n",
       "      <th>NAME</th>\n",
       "      <th>APPLICATION_TYPE</th>\n",
       "      <th>AFFILIATION</th>\n",
       "      <th>CLASSIFICATION</th>\n",
       "      <th>USE_CASE</th>\n",
       "      <th>ORGANIZATION</th>\n",
       "      <th>STATUS</th>\n",
       "      <th>INCOME_AMT</th>\n",
       "      <th>SPECIAL_CONSIDERATIONS</th>\n",
       "      <th>ASK_AMT</th>\n",
       "      <th>IS_SUCCESSFUL</th>\n",
       "    </tr>\n",
       "  </thead>\n",
       "  <tbody>\n",
       "    <tr>\n",
       "      <th>0</th>\n",
       "      <td>10520599</td>\n",
       "      <td>BLUE KNIGHTS MOTORCYCLE CLUB</td>\n",
       "      <td>T10</td>\n",
       "      <td>Independent</td>\n",
       "      <td>C1000</td>\n",
       "      <td>ProductDev</td>\n",
       "      <td>Association</td>\n",
       "      <td>1</td>\n",
       "      <td>0</td>\n",
       "      <td>N</td>\n",
       "      <td>5000</td>\n",
       "      <td>1</td>\n",
       "    </tr>\n",
       "    <tr>\n",
       "      <th>1</th>\n",
       "      <td>10531628</td>\n",
       "      <td>AMERICAN CHESAPEAKE CLUB CHARITABLE TR</td>\n",
       "      <td>T3</td>\n",
       "      <td>Independent</td>\n",
       "      <td>C2000</td>\n",
       "      <td>Preservation</td>\n",
       "      <td>Co-operative</td>\n",
       "      <td>1</td>\n",
       "      <td>1-9999</td>\n",
       "      <td>N</td>\n",
       "      <td>108590</td>\n",
       "      <td>1</td>\n",
       "    </tr>\n",
       "    <tr>\n",
       "      <th>2</th>\n",
       "      <td>10547893</td>\n",
       "      <td>ST CLOUD PROFESSIONAL FIREFIGHTERS</td>\n",
       "      <td>T5</td>\n",
       "      <td>CompanySponsored</td>\n",
       "      <td>C3000</td>\n",
       "      <td>ProductDev</td>\n",
       "      <td>Association</td>\n",
       "      <td>1</td>\n",
       "      <td>0</td>\n",
       "      <td>N</td>\n",
       "      <td>5000</td>\n",
       "      <td>0</td>\n",
       "    </tr>\n",
       "    <tr>\n",
       "      <th>3</th>\n",
       "      <td>10553066</td>\n",
       "      <td>SOUTHSIDE ATHLETIC ASSOCIATION</td>\n",
       "      <td>T3</td>\n",
       "      <td>CompanySponsored</td>\n",
       "      <td>C2000</td>\n",
       "      <td>Preservation</td>\n",
       "      <td>Trust</td>\n",
       "      <td>1</td>\n",
       "      <td>10000-24999</td>\n",
       "      <td>N</td>\n",
       "      <td>6692</td>\n",
       "      <td>1</td>\n",
       "    </tr>\n",
       "    <tr>\n",
       "      <th>4</th>\n",
       "      <td>10556103</td>\n",
       "      <td>GENETIC RESEARCH INSTITUTE OF THE DESERT</td>\n",
       "      <td>T3</td>\n",
       "      <td>Independent</td>\n",
       "      <td>C1000</td>\n",
       "      <td>Heathcare</td>\n",
       "      <td>Trust</td>\n",
       "      <td>1</td>\n",
       "      <td>100000-499999</td>\n",
       "      <td>N</td>\n",
       "      <td>142590</td>\n",
       "      <td>1</td>\n",
       "    </tr>\n",
       "  </tbody>\n",
       "</table>\n",
       "</div>"
      ],
      "text/plain": [
       "        EIN                                      NAME APPLICATION_TYPE  \\\n",
       "0  10520599              BLUE KNIGHTS MOTORCYCLE CLUB              T10   \n",
       "1  10531628    AMERICAN CHESAPEAKE CLUB CHARITABLE TR               T3   \n",
       "2  10547893        ST CLOUD PROFESSIONAL FIREFIGHTERS               T5   \n",
       "3  10553066            SOUTHSIDE ATHLETIC ASSOCIATION               T3   \n",
       "4  10556103  GENETIC RESEARCH INSTITUTE OF THE DESERT               T3   \n",
       "\n",
       "        AFFILIATION CLASSIFICATION      USE_CASE  ORGANIZATION  STATUS  \\\n",
       "0       Independent          C1000    ProductDev   Association       1   \n",
       "1       Independent          C2000  Preservation  Co-operative       1   \n",
       "2  CompanySponsored          C3000    ProductDev   Association       1   \n",
       "3  CompanySponsored          C2000  Preservation         Trust       1   \n",
       "4       Independent          C1000     Heathcare         Trust       1   \n",
       "\n",
       "      INCOME_AMT SPECIAL_CONSIDERATIONS  ASK_AMT  IS_SUCCESSFUL  \n",
       "0              0                      N     5000              1  \n",
       "1         1-9999                      N   108590              1  \n",
       "2              0                      N     5000              0  \n",
       "3    10000-24999                      N     6692              1  \n",
       "4  100000-499999                      N   142590              1  "
      ]
     },
     "execution_count": 53,
     "metadata": {},
     "output_type": "execute_result"
    }
   ],
   "source": [
    "# Import our dependencies\n",
    "from sklearn.model_selection import train_test_split\n",
    "from sklearn.preprocessing import StandardScaler\n",
    "import pandas as pd\n",
    "import tensorflow as tf\n",
    "import matplotlib.pyplot as plt\n",
    "\n",
    "from keras.callbacks import Callback\n",
    "import os\n",
    "\n",
    "#  Import and read the charity_data.csv.\n",
    "import pandas as pd\n",
    "application_df = pd.read_csv(\"https://static.bc-edx.com/data/dl-1-2/m21/lms/starter/charity_data.csv\")\n",
    "application_df.head()"
   ]
  },
  {
   "cell_type": "code",
   "execution_count": 54,
   "metadata": {
    "colab": {
     "base_uri": "https://localhost:8080/",
     "height": 244
    },
    "executionInfo": {
     "elapsed": 26,
     "status": "ok",
     "timestamp": 1692979971106,
     "user": {
      "displayName": "Michael Tolan",
      "userId": "01669100208714846840"
     },
     "user_tz": 240
    },
    "id": "IuG8EeJfSpa5",
    "outputId": "0bd4b225-f51e-4024-dcd3-1ca27755ef16"
   },
   "outputs": [
    {
     "data": {
      "text/html": [
       "<div>\n",
       "<style scoped>\n",
       "    .dataframe tbody tr th:only-of-type {\n",
       "        vertical-align: middle;\n",
       "    }\n",
       "\n",
       "    .dataframe tbody tr th {\n",
       "        vertical-align: top;\n",
       "    }\n",
       "\n",
       "    .dataframe thead th {\n",
       "        text-align: right;\n",
       "    }\n",
       "</style>\n",
       "<table border=\"1\" class=\"dataframe\">\n",
       "  <thead>\n",
       "    <tr style=\"text-align: right;\">\n",
       "      <th></th>\n",
       "      <th>APPLICATION_TYPE</th>\n",
       "      <th>AFFILIATION</th>\n",
       "      <th>CLASSIFICATION</th>\n",
       "      <th>USE_CASE</th>\n",
       "      <th>ORGANIZATION</th>\n",
       "      <th>INCOME_AMT</th>\n",
       "      <th>SPECIAL_CONSIDERATIONS</th>\n",
       "      <th>ASK_AMT</th>\n",
       "      <th>IS_SUCCESSFUL</th>\n",
       "    </tr>\n",
       "  </thead>\n",
       "  <tbody>\n",
       "    <tr>\n",
       "      <th>0</th>\n",
       "      <td>T10</td>\n",
       "      <td>Independent</td>\n",
       "      <td>C1000</td>\n",
       "      <td>ProductDev</td>\n",
       "      <td>Association</td>\n",
       "      <td>0</td>\n",
       "      <td>N</td>\n",
       "      <td>5000</td>\n",
       "      <td>1</td>\n",
       "    </tr>\n",
       "    <tr>\n",
       "      <th>1</th>\n",
       "      <td>T3</td>\n",
       "      <td>Independent</td>\n",
       "      <td>C2000</td>\n",
       "      <td>Preservation</td>\n",
       "      <td>Co-operative</td>\n",
       "      <td>1-9999</td>\n",
       "      <td>N</td>\n",
       "      <td>108590</td>\n",
       "      <td>1</td>\n",
       "    </tr>\n",
       "    <tr>\n",
       "      <th>2</th>\n",
       "      <td>T5</td>\n",
       "      <td>CompanySponsored</td>\n",
       "      <td>C3000</td>\n",
       "      <td>ProductDev</td>\n",
       "      <td>Association</td>\n",
       "      <td>0</td>\n",
       "      <td>N</td>\n",
       "      <td>5000</td>\n",
       "      <td>0</td>\n",
       "    </tr>\n",
       "    <tr>\n",
       "      <th>3</th>\n",
       "      <td>T3</td>\n",
       "      <td>CompanySponsored</td>\n",
       "      <td>C2000</td>\n",
       "      <td>Preservation</td>\n",
       "      <td>Trust</td>\n",
       "      <td>10000-24999</td>\n",
       "      <td>N</td>\n",
       "      <td>6692</td>\n",
       "      <td>1</td>\n",
       "    </tr>\n",
       "    <tr>\n",
       "      <th>4</th>\n",
       "      <td>T3</td>\n",
       "      <td>Independent</td>\n",
       "      <td>C1000</td>\n",
       "      <td>Heathcare</td>\n",
       "      <td>Trust</td>\n",
       "      <td>100000-499999</td>\n",
       "      <td>N</td>\n",
       "      <td>142590</td>\n",
       "      <td>1</td>\n",
       "    </tr>\n",
       "  </tbody>\n",
       "</table>\n",
       "</div>"
      ],
      "text/plain": [
       "  APPLICATION_TYPE       AFFILIATION CLASSIFICATION      USE_CASE  \\\n",
       "0              T10       Independent          C1000    ProductDev   \n",
       "1               T3       Independent          C2000  Preservation   \n",
       "2               T5  CompanySponsored          C3000    ProductDev   \n",
       "3               T3  CompanySponsored          C2000  Preservation   \n",
       "4               T3       Independent          C1000     Heathcare   \n",
       "\n",
       "   ORGANIZATION     INCOME_AMT SPECIAL_CONSIDERATIONS  ASK_AMT  IS_SUCCESSFUL  \n",
       "0   Association              0                      N     5000              1  \n",
       "1  Co-operative         1-9999                      N   108590              1  \n",
       "2   Association              0                      N     5000              0  \n",
       "3         Trust    10000-24999                      N     6692              1  \n",
       "4         Trust  100000-499999                      N   142590              1  "
      ]
     },
     "execution_count": 54,
     "metadata": {},
     "output_type": "execute_result"
    }
   ],
   "source": [
    "# Drop the non-beneficial ID columns, 'EIN' and 'NAME'.\n",
    "application_clean = application_df.copy()\n",
    "application_clean.drop(columns=[\"EIN\",\"NAME\",\"STATUS\"], axis=1, inplace=True)\n",
    "application_clean.head()"
   ]
  },
  {
   "cell_type": "code",
   "execution_count": 55,
   "metadata": {
    "colab": {
     "base_uri": "https://localhost:8080/"
    },
    "executionInfo": {
     "elapsed": 24,
     "status": "ok",
     "timestamp": 1692979971106,
     "user": {
      "displayName": "Michael Tolan",
      "userId": "01669100208714846840"
     },
     "user_tz": 240
    },
    "id": "sFSeJFOjSpa6",
    "outputId": "b80c3c87-3690-484c-ea59-2f7afc66a92d"
   },
   "outputs": [
    {
     "data": {
      "text/plain": [
       "APPLICATION_TYPE            17\n",
       "AFFILIATION                  6\n",
       "CLASSIFICATION              71\n",
       "USE_CASE                     5\n",
       "ORGANIZATION                 4\n",
       "INCOME_AMT                   9\n",
       "SPECIAL_CONSIDERATIONS       2\n",
       "ASK_AMT                   8747\n",
       "IS_SUCCESSFUL                2\n",
       "dtype: int64"
      ]
     },
     "execution_count": 55,
     "metadata": {},
     "output_type": "execute_result"
    }
   ],
   "source": [
    "# Determine the number of unique values in each column.\n",
    "application_clean.nunique()"
   ]
  },
  {
   "cell_type": "code",
   "execution_count": 56,
   "metadata": {
    "colab": {
     "base_uri": "https://localhost:8080/"
    },
    "executionInfo": {
     "elapsed": 284,
     "status": "ok",
     "timestamp": 1692979971369,
     "user": {
      "displayName": "Michael Tolan",
      "userId": "01669100208714846840"
     },
     "user_tz": 240
    },
    "id": "rkrhUd1TTlig",
    "outputId": "48328099-10ff-4e14-f7f1-0ff7cf62d009"
   },
   "outputs": [
    {
     "data": {
      "text/plain": [
       "T3     27037\n",
       "T4      1542\n",
       "T6      1216\n",
       "T5      1173\n",
       "T19     1065\n",
       "T8       737\n",
       "T7       725\n",
       "T10      528\n",
       "T9       156\n",
       "T13       66\n",
       "T12       27\n",
       "T2        16\n",
       "T25        3\n",
       "T14        3\n",
       "T29        2\n",
       "T15        2\n",
       "T17        1\n",
       "Name: APPLICATION_TYPE, dtype: int64"
      ]
     },
     "execution_count": 56,
     "metadata": {},
     "output_type": "execute_result"
    }
   ],
   "source": [
    "# Look at APPLICATION_TYPE value counts for binning\n",
    "application_values = application_clean[\"APPLICATION_TYPE\"].value_counts()\n",
    "application_values"
   ]
  },
  {
   "cell_type": "code",
   "execution_count": 57,
   "metadata": {
    "executionInfo": {
     "elapsed": 52,
     "status": "ok",
     "timestamp": 1692979971369,
     "user": {
      "displayName": "Michael Tolan",
      "userId": "01669100208714846840"
     },
     "user_tz": 240
    },
    "id": "5gaaH5QTXIuo"
   },
   "outputs": [],
   "source": [
    "#Compile values into dictionary\n",
    "application_dict = application_values.to_dict()"
   ]
  },
  {
   "cell_type": "code",
   "execution_count": 58,
   "metadata": {
    "colab": {
     "base_uri": "https://localhost:8080/"
    },
    "executionInfo": {
     "elapsed": 56,
     "status": "ok",
     "timestamp": 1692979971374,
     "user": {
      "displayName": "Michael Tolan",
      "userId": "01669100208714846840"
     },
     "user_tz": 240
    },
    "id": "12aP-KUFWSJi",
    "outputId": "689c45b8-1b4c-43ef-b1ae-99f53e2fb716"
   },
   "outputs": [
    {
     "data": {
      "text/plain": [
       "T3       27037\n",
       "T4        1542\n",
       "T6        1216\n",
       "T5        1173\n",
       "T19       1065\n",
       "T8         737\n",
       "T7         725\n",
       "T10        528\n",
       "Other      276\n",
       "Name: APPLICATION_TYPE, dtype: int64"
      ]
     },
     "execution_count": 58,
     "metadata": {},
     "output_type": "execute_result"
    }
   ],
   "source": [
    "# Choose a cutoff value and create a list of application types to be replaced\n",
    "# use the variable name `application_types_to_replace`\n",
    "application_types_to_replace = []\n",
    "\n",
    "for key,value in application_dict.items():\n",
    "  if value < 528:\n",
    "    application_types_to_replace.append(key)\n",
    "\n",
    "# Replace in dataframe\n",
    "for app in application_types_to_replace:\n",
    "    application_clean['APPLICATION_TYPE'] = application_clean['APPLICATION_TYPE'].replace(app,\"Other\")\n",
    "\n",
    "# Check to make sure binning was successful\n",
    "application_clean['APPLICATION_TYPE'].value_counts()"
   ]
  },
  {
   "cell_type": "code",
   "execution_count": 59,
   "metadata": {
    "colab": {
     "base_uri": "https://localhost:8080/"
    },
    "executionInfo": {
     "elapsed": 56,
     "status": "ok",
     "timestamp": 1692979971375,
     "user": {
      "displayName": "Michael Tolan",
      "userId": "01669100208714846840"
     },
     "user_tz": 240
    },
    "id": "MxSZxuOvSpa8",
    "outputId": "7dba81ea-41d0-4d04-9d73-7e464c8d02d6"
   },
   "outputs": [
    {
     "data": {
      "text/plain": [
       "C1000    17326\n",
       "C2000     6074\n",
       "C1200     4837\n",
       "C3000     1918\n",
       "C2100     1883\n",
       "         ...  \n",
       "C4120        1\n",
       "C8210        1\n",
       "C2561        1\n",
       "C4500        1\n",
       "C2150        1\n",
       "Name: CLASSIFICATION, Length: 71, dtype: int64"
      ]
     },
     "execution_count": 59,
     "metadata": {},
     "output_type": "execute_result"
    }
   ],
   "source": [
    "# Look at CLASSIFICATION value counts for binning\n",
    "class_values = application_clean[\"CLASSIFICATION\"].value_counts()\n",
    "class_values"
   ]
  },
  {
   "cell_type": "code",
   "execution_count": 60,
   "metadata": {
    "colab": {
     "base_uri": "https://localhost:8080/"
    },
    "executionInfo": {
     "elapsed": 53,
     "status": "ok",
     "timestamp": 1692979971375,
     "user": {
      "displayName": "Michael Tolan",
      "userId": "01669100208714846840"
     },
     "user_tz": 240
    },
    "id": "keV2tNRaSpa8",
    "outputId": "5821bd13-d549-4a55-bf64-9742857afcf9",
    "scrolled": true
   },
   "outputs": [
    {
     "data": {
      "text/plain": [
       "C1000    17326\n",
       "C2000     6074\n",
       "C1200     4837\n",
       "C3000     1918\n",
       "C2100     1883\n",
       "C7000      777\n",
       "C1700      287\n",
       "C4000      194\n",
       "C5000      116\n",
       "C1270      114\n",
       "C2700      104\n",
       "C2800       95\n",
       "C7100       75\n",
       "C1300       58\n",
       "C1280       50\n",
       "C1230       36\n",
       "C1400       34\n",
       "C7200       32\n",
       "C2300       32\n",
       "C1240       30\n",
       "C8000       20\n",
       "C7120       18\n",
       "C1500       16\n",
       "C1800       15\n",
       "C6000       15\n",
       "C1250       14\n",
       "C8200       11\n",
       "C1238       10\n",
       "C1278       10\n",
       "C1235        9\n",
       "C1237        9\n",
       "C7210        7\n",
       "C2400        6\n",
       "C1720        6\n",
       "C4100        6\n",
       "C1257        5\n",
       "C1600        5\n",
       "C1260        3\n",
       "C2710        3\n",
       "C0           3\n",
       "C3200        2\n",
       "C1234        2\n",
       "C1246        2\n",
       "C1267        2\n",
       "C1256        2\n",
       "Name: CLASSIFICATION, dtype: int64"
      ]
     },
     "execution_count": 60,
     "metadata": {},
     "output_type": "execute_result"
    }
   ],
   "source": [
    "# You may find it helpful to look at CLASSIFICATION value counts >1\n",
    "class_values_limited = application_clean[\"CLASSIFICATION\"].value_counts()[application_clean[\"CLASSIFICATION\"].value_counts() >1]\n",
    "class_values_limited"
   ]
  },
  {
   "cell_type": "code",
   "execution_count": 61,
   "metadata": {
    "executionInfo": {
     "elapsed": 51,
     "status": "ok",
     "timestamp": 1692979971375,
     "user": {
      "displayName": "Michael Tolan",
      "userId": "01669100208714846840"
     },
     "user_tz": 240
    },
    "id": "N68J2OOlZPV9"
   },
   "outputs": [],
   "source": [
    "# Convert value counts to dict\n",
    "class_dict = class_values.to_dict()"
   ]
  },
  {
   "cell_type": "code",
   "execution_count": 62,
   "metadata": {
    "colab": {
     "base_uri": "https://localhost:8080/"
    },
    "executionInfo": {
     "elapsed": 193,
     "status": "ok",
     "timestamp": 1692979971517,
     "user": {
      "displayName": "Michael Tolan",
      "userId": "01669100208714846840"
     },
     "user_tz": 240
    },
    "id": "mkdEQZlNSpa9",
    "outputId": "8c3ed612-8b49-47d9-cb2d-6a517e46e69b"
   },
   "outputs": [
    {
     "data": {
      "text/plain": [
       "C1000    17326\n",
       "C2000     6074\n",
       "C1200     4837\n",
       "C3000     1918\n",
       "C2100     1883\n",
       "C7000      777\n",
       "C1700      287\n",
       "C4000      194\n",
       "C5000      116\n",
       "C1270      114\n",
       "C2700      104\n",
       "Other       98\n",
       "C2800       95\n",
       "C7100       75\n",
       "C1300       58\n",
       "C1280       50\n",
       "C1230       36\n",
       "C1400       34\n",
       "C7200       32\n",
       "C2300       32\n",
       "C1240       30\n",
       "C8000       20\n",
       "C7120       18\n",
       "C1500       16\n",
       "C1800       15\n",
       "C6000       15\n",
       "C1250       14\n",
       "C8200       11\n",
       "C1238       10\n",
       "C1278       10\n",
       "Name: CLASSIFICATION, dtype: int64"
      ]
     },
     "execution_count": 62,
     "metadata": {},
     "output_type": "execute_result"
    }
   ],
   "source": [
    "# Choose a cutoff value and create a list of classifications to be replaced\n",
    "# use the variable name `classifications_to_replace`\n",
    "classifications_to_replace = []\n",
    "\n",
    "for key,value in class_dict.items():\n",
    "  if value < 10:\n",
    "    classifications_to_replace.append(key)\n",
    "\n",
    "\n",
    "# Replace in dataframe\n",
    "for cls in classifications_to_replace:\n",
    "    application_clean['CLASSIFICATION'] = application_clean['CLASSIFICATION'].replace(cls,\"Other\")\n",
    "\n",
    "# Check to make sure binning was successful\n",
    "application_clean['CLASSIFICATION'].value_counts()"
   ]
  },
  {
   "cell_type": "code",
   "execution_count": 63,
   "metadata": {},
   "outputs": [],
   "source": [
    "application_clean.drop(columns=[\"APPLICATION_TYPE\",\"SPECIAL_CONSIDERATIONS\"], axis=1, inplace=True)"
   ]
  },
  {
   "cell_type": "code",
   "execution_count": 64,
   "metadata": {
    "colab": {
     "base_uri": "https://localhost:8080/",
     "height": 273
    },
    "executionInfo": {
     "elapsed": 12,
     "status": "ok",
     "timestamp": 1692979971520,
     "user": {
      "displayName": "Michael Tolan",
      "userId": "01669100208714846840"
     },
     "user_tz": 240
    },
    "id": "nnDHZ2q5Spa-",
    "outputId": "0795431d-192a-4888-d1e6-a1e36f0e687b"
   },
   "outputs": [
    {
     "data": {
      "text/html": [
       "<div>\n",
       "<style scoped>\n",
       "    .dataframe tbody tr th:only-of-type {\n",
       "        vertical-align: middle;\n",
       "    }\n",
       "\n",
       "    .dataframe tbody tr th {\n",
       "        vertical-align: top;\n",
       "    }\n",
       "\n",
       "    .dataframe thead th {\n",
       "        text-align: right;\n",
       "    }\n",
       "</style>\n",
       "<table border=\"1\" class=\"dataframe\">\n",
       "  <thead>\n",
       "    <tr style=\"text-align: right;\">\n",
       "      <th></th>\n",
       "      <th>ASK_AMT</th>\n",
       "      <th>IS_SUCCESSFUL</th>\n",
       "      <th>CLASSIFICATION_C1000</th>\n",
       "      <th>CLASSIFICATION_C1200</th>\n",
       "      <th>CLASSIFICATION_C1230</th>\n",
       "      <th>CLASSIFICATION_C1238</th>\n",
       "      <th>CLASSIFICATION_C1240</th>\n",
       "      <th>CLASSIFICATION_C1250</th>\n",
       "      <th>CLASSIFICATION_C1270</th>\n",
       "      <th>CLASSIFICATION_C1278</th>\n",
       "      <th>...</th>\n",
       "      <th>ORGANIZATION_Trust</th>\n",
       "      <th>INCOME_AMT_0</th>\n",
       "      <th>INCOME_AMT_1-9999</th>\n",
       "      <th>INCOME_AMT_10000-24999</th>\n",
       "      <th>INCOME_AMT_100000-499999</th>\n",
       "      <th>INCOME_AMT_10M-50M</th>\n",
       "      <th>INCOME_AMT_1M-5M</th>\n",
       "      <th>INCOME_AMT_25000-99999</th>\n",
       "      <th>INCOME_AMT_50M+</th>\n",
       "      <th>INCOME_AMT_5M-10M</th>\n",
       "    </tr>\n",
       "  </thead>\n",
       "  <tbody>\n",
       "    <tr>\n",
       "      <th>0</th>\n",
       "      <td>5000</td>\n",
       "      <td>1</td>\n",
       "      <td>1</td>\n",
       "      <td>0</td>\n",
       "      <td>0</td>\n",
       "      <td>0</td>\n",
       "      <td>0</td>\n",
       "      <td>0</td>\n",
       "      <td>0</td>\n",
       "      <td>0</td>\n",
       "      <td>...</td>\n",
       "      <td>0</td>\n",
       "      <td>1</td>\n",
       "      <td>0</td>\n",
       "      <td>0</td>\n",
       "      <td>0</td>\n",
       "      <td>0</td>\n",
       "      <td>0</td>\n",
       "      <td>0</td>\n",
       "      <td>0</td>\n",
       "      <td>0</td>\n",
       "    </tr>\n",
       "    <tr>\n",
       "      <th>1</th>\n",
       "      <td>108590</td>\n",
       "      <td>1</td>\n",
       "      <td>0</td>\n",
       "      <td>0</td>\n",
       "      <td>0</td>\n",
       "      <td>0</td>\n",
       "      <td>0</td>\n",
       "      <td>0</td>\n",
       "      <td>0</td>\n",
       "      <td>0</td>\n",
       "      <td>...</td>\n",
       "      <td>0</td>\n",
       "      <td>0</td>\n",
       "      <td>1</td>\n",
       "      <td>0</td>\n",
       "      <td>0</td>\n",
       "      <td>0</td>\n",
       "      <td>0</td>\n",
       "      <td>0</td>\n",
       "      <td>0</td>\n",
       "      <td>0</td>\n",
       "    </tr>\n",
       "    <tr>\n",
       "      <th>2</th>\n",
       "      <td>5000</td>\n",
       "      <td>0</td>\n",
       "      <td>0</td>\n",
       "      <td>0</td>\n",
       "      <td>0</td>\n",
       "      <td>0</td>\n",
       "      <td>0</td>\n",
       "      <td>0</td>\n",
       "      <td>0</td>\n",
       "      <td>0</td>\n",
       "      <td>...</td>\n",
       "      <td>0</td>\n",
       "      <td>1</td>\n",
       "      <td>0</td>\n",
       "      <td>0</td>\n",
       "      <td>0</td>\n",
       "      <td>0</td>\n",
       "      <td>0</td>\n",
       "      <td>0</td>\n",
       "      <td>0</td>\n",
       "      <td>0</td>\n",
       "    </tr>\n",
       "    <tr>\n",
       "      <th>3</th>\n",
       "      <td>6692</td>\n",
       "      <td>1</td>\n",
       "      <td>0</td>\n",
       "      <td>0</td>\n",
       "      <td>0</td>\n",
       "      <td>0</td>\n",
       "      <td>0</td>\n",
       "      <td>0</td>\n",
       "      <td>0</td>\n",
       "      <td>0</td>\n",
       "      <td>...</td>\n",
       "      <td>1</td>\n",
       "      <td>0</td>\n",
       "      <td>0</td>\n",
       "      <td>1</td>\n",
       "      <td>0</td>\n",
       "      <td>0</td>\n",
       "      <td>0</td>\n",
       "      <td>0</td>\n",
       "      <td>0</td>\n",
       "      <td>0</td>\n",
       "    </tr>\n",
       "    <tr>\n",
       "      <th>4</th>\n",
       "      <td>142590</td>\n",
       "      <td>1</td>\n",
       "      <td>1</td>\n",
       "      <td>0</td>\n",
       "      <td>0</td>\n",
       "      <td>0</td>\n",
       "      <td>0</td>\n",
       "      <td>0</td>\n",
       "      <td>0</td>\n",
       "      <td>0</td>\n",
       "      <td>...</td>\n",
       "      <td>1</td>\n",
       "      <td>0</td>\n",
       "      <td>0</td>\n",
       "      <td>0</td>\n",
       "      <td>1</td>\n",
       "      <td>0</td>\n",
       "      <td>0</td>\n",
       "      <td>0</td>\n",
       "      <td>0</td>\n",
       "      <td>0</td>\n",
       "    </tr>\n",
       "  </tbody>\n",
       "</table>\n",
       "<p>5 rows × 56 columns</p>\n",
       "</div>"
      ],
      "text/plain": [
       "   ASK_AMT  IS_SUCCESSFUL  CLASSIFICATION_C1000  CLASSIFICATION_C1200  \\\n",
       "0     5000              1                     1                     0   \n",
       "1   108590              1                     0                     0   \n",
       "2     5000              0                     0                     0   \n",
       "3     6692              1                     0                     0   \n",
       "4   142590              1                     1                     0   \n",
       "\n",
       "   CLASSIFICATION_C1230  CLASSIFICATION_C1238  CLASSIFICATION_C1240  \\\n",
       "0                     0                     0                     0   \n",
       "1                     0                     0                     0   \n",
       "2                     0                     0                     0   \n",
       "3                     0                     0                     0   \n",
       "4                     0                     0                     0   \n",
       "\n",
       "   CLASSIFICATION_C1250  CLASSIFICATION_C1270  CLASSIFICATION_C1278  ...  \\\n",
       "0                     0                     0                     0  ...   \n",
       "1                     0                     0                     0  ...   \n",
       "2                     0                     0                     0  ...   \n",
       "3                     0                     0                     0  ...   \n",
       "4                     0                     0                     0  ...   \n",
       "\n",
       "   ORGANIZATION_Trust  INCOME_AMT_0  INCOME_AMT_1-9999  \\\n",
       "0                   0             1                  0   \n",
       "1                   0             0                  1   \n",
       "2                   0             1                  0   \n",
       "3                   1             0                  0   \n",
       "4                   1             0                  0   \n",
       "\n",
       "   INCOME_AMT_10000-24999  INCOME_AMT_100000-499999  INCOME_AMT_10M-50M  \\\n",
       "0                       0                         0                   0   \n",
       "1                       0                         0                   0   \n",
       "2                       0                         0                   0   \n",
       "3                       1                         0                   0   \n",
       "4                       0                         1                   0   \n",
       "\n",
       "   INCOME_AMT_1M-5M  INCOME_AMT_25000-99999  INCOME_AMT_50M+  \\\n",
       "0                 0                       0                0   \n",
       "1                 0                       0                0   \n",
       "2                 0                       0                0   \n",
       "3                 0                       0                0   \n",
       "4                 0                       0                0   \n",
       "\n",
       "   INCOME_AMT_5M-10M  \n",
       "0                  0  \n",
       "1                  0  \n",
       "2                  0  \n",
       "3                  0  \n",
       "4                  0  \n",
       "\n",
       "[5 rows x 56 columns]"
      ]
     },
     "execution_count": 64,
     "metadata": {},
     "output_type": "execute_result"
    }
   ],
   "source": [
    "# Convert categorical data to numeric with `pd.get_dummies`\n",
    "application_dummies = pd.get_dummies(application_clean, columns=[\"CLASSIFICATION\",\\\n",
    "                                                                 \"AFFILIATION\", \"USE_CASE\", \"ORGANIZATION\", \"INCOME_AMT\"])\n",
    "\n",
    "application_dummies.head()"
   ]
  },
  {
   "cell_type": "code",
   "execution_count": 65,
   "metadata": {
    "executionInfo": {
     "elapsed": 9,
     "status": "ok",
     "timestamp": 1692979971521,
     "user": {
      "displayName": "Michael Tolan",
      "userId": "01669100208714846840"
     },
     "user_tz": 240
    },
    "id": "hIy9V65rSpa-"
   },
   "outputs": [],
   "source": [
    "# Split our preprocessed data into our features and target arrays\n",
    "y = application_dummies[\"IS_SUCCESSFUL\"].values.reshape(-1, 1)\n",
    "X = application_dummies.copy()\n",
    "X.drop(columns=\"IS_SUCCESSFUL\", axis=1, inplace=True)\n",
    "\n",
    "# Split the preprocessed data into a training and testing dataset\n",
    "X_train, X_test, y_train, y_test = train_test_split(X, y, random_state=1)"
   ]
  },
  {
   "cell_type": "code",
   "execution_count": 66,
   "metadata": {
    "executionInfo": {
     "elapsed": 141,
     "status": "ok",
     "timestamp": 1692979971653,
     "user": {
      "displayName": "Michael Tolan",
      "userId": "01669100208714846840"
     },
     "user_tz": 240
    },
    "id": "RpVx3LGASpa-"
   },
   "outputs": [],
   "source": [
    "# Create a StandardScaler instances\n",
    "scaler = StandardScaler()\n",
    "\n",
    "# Fit the StandardScaler\n",
    "X_scaler = scaler.fit(X_train)\n",
    "\n",
    "# Scale the data\n",
    "X_train_scaled = X_scaler.transform(X_train)\n",
    "X_test_scaled = X_scaler.transform(X_test)"
   ]
  },
  {
   "cell_type": "markdown",
   "metadata": {
    "id": "d6fqbMEVSpa_"
   },
   "source": [
    "## Compile, Train and Evaluate the Model"
   ]
  },
  {
   "cell_type": "code",
   "execution_count": 67,
   "metadata": {
    "colab": {
     "base_uri": "https://localhost:8080/"
    },
    "executionInfo": {
     "elapsed": 5,
     "status": "ok",
     "timestamp": 1692979971653,
     "user": {
      "displayName": "Michael Tolan",
      "userId": "01669100208714846840"
     },
     "user_tz": 240
    },
    "id": "e5q9VOwtSpa_",
    "outputId": "e940012e-c2d6-48eb-9d6a-efb963af087d"
   },
   "outputs": [
    {
     "name": "stdout",
     "output_type": "stream",
     "text": [
      "Model: \"sequential_3\"\n",
      "_________________________________________________________________\n",
      " Layer (type)                Output Shape              Param #   \n",
      "=================================================================\n",
      " dense_12 (Dense)            (None, 800)               44800     \n",
      "                                                                 \n",
      " dense_13 (Dense)            (None, 300)               240300    \n",
      "                                                                 \n",
      " dense_14 (Dense)            (None, 300)               90300     \n",
      "                                                                 \n",
      " dense_15 (Dense)            (None, 300)               90300     \n",
      "                                                                 \n",
      " dense_16 (Dense)            (None, 1)                 301       \n",
      "                                                                 \n",
      "=================================================================\n",
      "Total params: 466,001\n",
      "Trainable params: 466,001\n",
      "Non-trainable params: 0\n",
      "_________________________________________________________________\n"
     ]
    }
   ],
   "source": [
    "# Define the model - deep neural net, i.e., the number of input features and hidden nodes for each layer.\n",
    "#\n",
    "\n",
    "# Define the model - deep neural net\n",
    "number_input_features = len(X_train_scaled[0])\n",
    "hidden_nodes_layer1 =  800\n",
    "hidden_nodes_layer2 = 300\n",
    "\n",
    "nn = tf.keras.models.Sequential()\n",
    "\n",
    "# First hidden layer\n",
    "nn.add(tf.keras.layers.Dense(units=hidden_nodes_layer1, input_dim=number_input_features, activation=\"relu\")\n",
    ")\n",
    "\n",
    "# Second hidden layer\n",
    "nn.add(tf.keras.layers.Dense(units=hidden_nodes_layer2, activation=\"relu\"))\n",
    "\n",
    "nn.add(tf.keras.layers.Dense(units=hidden_nodes_layer2, activation=\"relu\"))\n",
    "\n",
    "nn.add(tf.keras.layers.Dense(units=hidden_nodes_layer2, activation=\"relu\"))\n",
    "\n",
    "# Output layer\n",
    "nn.add(tf.keras.layers.Dense(units=1, activation=\"sigmoid\"))\n",
    "\n",
    "# Check the structure of the model\n",
    "nn.summary()\n"
   ]
  },
  {
   "cell_type": "code",
   "execution_count": 68,
   "metadata": {
    "executionInfo": {
     "elapsed": 6,
     "status": "ok",
     "timestamp": 1692979971809,
     "user": {
      "displayName": "Michael Tolan",
      "userId": "01669100208714846840"
     },
     "user_tz": 240
    },
    "id": "oSTUXRZJSpa_"
   },
   "outputs": [],
   "source": [
    "# Compile the model\n",
    "nn.compile(loss=\"binary_crossentropy\", optimizer=\"adam\", metrics=[\"accuracy\"])"
   ]
  },
  {
   "cell_type": "code",
   "execution_count": 69,
   "metadata": {
    "executionInfo": {
     "elapsed": 137,
     "status": "ok",
     "timestamp": 1692981291355,
     "user": {
      "displayName": "Michael Tolan",
      "userId": "01669100208714846840"
     },
     "user_tz": 240
    },
    "id": "PdPdOec4iWTp"
   },
   "outputs": [],
   "source": [
    "# Callbacks loop via ChatGPT\n",
    "class SaveModelWeights(Callback):\n",
    "    def __init__(self, save_dir, save_interval=5):\n",
    "        super(SaveModelWeights, self).__init__()\n",
    "        self.save_dir = save_dir\n",
    "        self.save_interval = save_interval\n",
    "        self.epoch_count = 0\n",
    "\n",
    "    def on_epoch_end(self, epoch, logs=None):\n",
    "        self.epoch_count += 1\n",
    "        if self.epoch_count % self.save_interval == 0:\n",
    "            model_name = f\"model_weights_epoch_{self.epoch_count}.h5\"\n",
    "            save_path = os.path.join(self.save_dir, model_name)\n",
    "            self.model.save_weights(save_path)\n",
    "            print(f\"Saved model weights at epoch {self.epoch_count} to {save_path}\")\n",
    "\n",
    "\n",
    "# Directory to save model weights\n",
    "save_dir = 'model_weights'\n",
    "\n",
    "# Create the callback\n",
    "save_callback = SaveModelWeights(save_dir, save_interval=5)\n"
   ]
  },
  {
   "cell_type": "code",
   "execution_count": 70,
   "metadata": {
    "colab": {
     "base_uri": "https://localhost:8080/"
    },
    "executionInfo": {
     "elapsed": 202139,
     "status": "ok",
     "timestamp": 1692981628001,
     "user": {
      "displayName": "Michael Tolan",
      "userId": "01669100208714846840"
     },
     "user_tz": 240
    },
    "id": "6eC-ff4USpa_",
    "outputId": "32915f48-fbe9-4430-d87b-80a0288e72b9"
   },
   "outputs": [
    {
     "name": "stdout",
     "output_type": "stream",
     "text": [
      "Epoch 1/100\n",
      "804/804 [==============================] - 10s 10ms/step - loss: 0.5953 - accuracy: 0.6986\n",
      "Epoch 2/100\n",
      "804/804 [==============================] - 8s 10ms/step - loss: 0.5826 - accuracy: 0.7061\n",
      "Epoch 3/100\n",
      "804/804 [==============================] - 8s 10ms/step - loss: 0.5807 - accuracy: 0.7057\n",
      "Epoch 4/100\n",
      "804/804 [==============================] - 9s 11ms/step - loss: 0.5782 - accuracy: 0.7078\n",
      "Epoch 5/100\n",
      "804/804 [==============================] - 9s 11ms/step - loss: 0.5764 - accuracy: 0.7091\n",
      "Epoch 6/100\n",
      "804/804 [==============================] - 8s 10ms/step - loss: 0.5762 - accuracy: 0.7115\n",
      "Epoch 7/100\n",
      "804/804 [==============================] - 8s 10ms/step - loss: 0.5745 - accuracy: 0.7119\n",
      "Epoch 8/100\n",
      "804/804 [==============================] - 8s 10ms/step - loss: 0.5742 - accuracy: 0.7106\n",
      "Epoch 9/100\n",
      "804/804 [==============================] - 8s 10ms/step - loss: 0.5731 - accuracy: 0.7121\n",
      "Epoch 10/100\n",
      "804/804 [==============================] - 8s 10ms/step - loss: 0.5722 - accuracy: 0.7119\n",
      "Epoch 11/100\n",
      "804/804 [==============================] - 8s 10ms/step - loss: 0.5716 - accuracy: 0.7137\n",
      "Epoch 12/100\n",
      "804/804 [==============================] - 8s 10ms/step - loss: 0.5707 - accuracy: 0.7138\n",
      "Epoch 13/100\n",
      "804/804 [==============================] - 8s 10ms/step - loss: 0.5704 - accuracy: 0.7142\n",
      "Epoch 14/100\n",
      "804/804 [==============================] - 8s 11ms/step - loss: 0.5706 - accuracy: 0.7124\n",
      "Epoch 15/100\n",
      "804/804 [==============================] - 8s 10ms/step - loss: 0.5699 - accuracy: 0.7146\n",
      "Epoch 16/100\n",
      "804/804 [==============================] - 8s 10ms/step - loss: 0.5700 - accuracy: 0.7145\n",
      "Epoch 17/100\n",
      "804/804 [==============================] - 8s 10ms/step - loss: 0.5701 - accuracy: 0.7132\n",
      "Epoch 18/100\n",
      "804/804 [==============================] - 7s 9ms/step - loss: 0.5694 - accuracy: 0.7139\n",
      "Epoch 19/100\n",
      "804/804 [==============================] - 7s 9ms/step - loss: 0.5692 - accuracy: 0.7155\n",
      "Epoch 20/100\n",
      "804/804 [==============================] - 7s 9ms/step - loss: 0.5688 - accuracy: 0.7147\n",
      "Epoch 21/100\n",
      "804/804 [==============================] - 6s 8ms/step - loss: 0.5688 - accuracy: 0.7151\n",
      "Epoch 22/100\n",
      "804/804 [==============================] - 6s 8ms/step - loss: 0.5684 - accuracy: 0.7153\n",
      "Epoch 23/100\n",
      "804/804 [==============================] - 7s 8ms/step - loss: 0.5695 - accuracy: 0.7145\n",
      "Epoch 24/100\n",
      "804/804 [==============================] - 6s 8ms/step - loss: 0.5682 - accuracy: 0.7159\n",
      "Epoch 25/100\n",
      "804/804 [==============================] - 7s 9ms/step - loss: 0.5676 - accuracy: 0.7159\n",
      "Epoch 26/100\n",
      "804/804 [==============================] - 8s 10ms/step - loss: 0.5677 - accuracy: 0.7152\n",
      "Epoch 27/100\n",
      "804/804 [==============================] - 8s 10ms/step - loss: 0.5672 - accuracy: 0.7154\n",
      "Epoch 28/100\n",
      "804/804 [==============================] - 8s 10ms/step - loss: 0.5668 - accuracy: 0.7158\n",
      "Epoch 29/100\n",
      "804/804 [==============================] - 8s 10ms/step - loss: 0.5671 - accuracy: 0.7155\n",
      "Epoch 30/100\n",
      "804/804 [==============================] - 7s 8ms/step - loss: 0.5673 - accuracy: 0.7156\n",
      "Epoch 31/100\n",
      "804/804 [==============================] - 7s 8ms/step - loss: 0.5674 - accuracy: 0.7149\n",
      "Epoch 32/100\n",
      "804/804 [==============================] - 7s 8ms/step - loss: 0.5662 - accuracy: 0.7157\n",
      "Epoch 33/100\n",
      "804/804 [==============================] - 6s 8ms/step - loss: 0.5664 - accuracy: 0.7165\n",
      "Epoch 34/100\n",
      "804/804 [==============================] - 7s 8ms/step - loss: 0.5667 - accuracy: 0.7152\n",
      "Epoch 35/100\n",
      "804/804 [==============================] - 7s 8ms/step - loss: 0.5658 - accuracy: 0.7165\n",
      "Epoch 36/100\n",
      "804/804 [==============================] - 8s 9ms/step - loss: 0.5661 - accuracy: 0.7155\n",
      "Epoch 37/100\n",
      "804/804 [==============================] - 9s 11ms/step - loss: 0.5661 - accuracy: 0.7153\n",
      "Epoch 38/100\n",
      "804/804 [==============================] - 9s 11ms/step - loss: 0.5661 - accuracy: 0.7161\n",
      "Epoch 39/100\n",
      "804/804 [==============================] - 10s 12ms/step - loss: 0.5659 - accuracy: 0.7158\n",
      "Epoch 40/100\n",
      "804/804 [==============================] - 10s 12ms/step - loss: 0.5653 - accuracy: 0.7165\n",
      "Epoch 41/100\n",
      "804/804 [==============================] - 9s 12ms/step - loss: 0.5649 - accuracy: 0.7160\n",
      "Epoch 42/100\n",
      "804/804 [==============================] - 9s 12ms/step - loss: 0.5654 - accuracy: 0.7159\n",
      "Epoch 43/100\n",
      "804/804 [==============================] - 9s 11ms/step - loss: 0.5652 - accuracy: 0.7165\n",
      "Epoch 44/100\n",
      "804/804 [==============================] - 10s 12ms/step - loss: 0.5646 - accuracy: 0.7166\n",
      "Epoch 45/100\n",
      "804/804 [==============================] - 10s 13ms/step - loss: 0.5650 - accuracy: 0.7169\n",
      "Epoch 46/100\n",
      "804/804 [==============================] - 9s 11ms/step - loss: 0.5641 - accuracy: 0.7172\n",
      "Epoch 47/100\n",
      "804/804 [==============================] - 9s 11ms/step - loss: 0.5652 - accuracy: 0.7162\n",
      "Epoch 48/100\n",
      "804/804 [==============================] - 9s 11ms/step - loss: 0.5643 - accuracy: 0.7166\n",
      "Epoch 49/100\n",
      "804/804 [==============================] - 9s 11ms/step - loss: 0.5641 - accuracy: 0.7172\n",
      "Epoch 50/100\n",
      "804/804 [==============================] - 9s 11ms/step - loss: 0.5639 - accuracy: 0.7169\n",
      "Epoch 51/100\n",
      "804/804 [==============================] - 9s 12ms/step - loss: 0.5656 - accuracy: 0.7164\n",
      "Epoch 52/100\n",
      "804/804 [==============================] - 10s 13ms/step - loss: 0.5635 - accuracy: 0.7160\n",
      "Epoch 53/100\n",
      "804/804 [==============================] - 10s 13ms/step - loss: 0.5641 - accuracy: 0.7159\n",
      "Epoch 54/100\n",
      "804/804 [==============================] - 11s 14ms/step - loss: 0.5636 - accuracy: 0.7168\n",
      "Epoch 55/100\n",
      "804/804 [==============================] - 11s 13ms/step - loss: 0.5627 - accuracy: 0.7169\n",
      "Epoch 56/100\n",
      "804/804 [==============================] - 10s 12ms/step - loss: 0.5627 - accuracy: 0.7174\n",
      "Epoch 57/100\n",
      "804/804 [==============================] - 10s 12ms/step - loss: 0.5630 - accuracy: 0.7175\n",
      "Epoch 58/100\n",
      "804/804 [==============================] - 10s 12ms/step - loss: 0.5632 - accuracy: 0.7175\n",
      "Epoch 59/100\n",
      "804/804 [==============================] - 10s 12ms/step - loss: 0.5630 - accuracy: 0.7174\n",
      "Epoch 60/100\n",
      "804/804 [==============================] - 9s 11ms/step - loss: 0.5634 - accuracy: 0.7172\n",
      "Epoch 61/100\n",
      "804/804 [==============================] - 9s 12ms/step - loss: 0.5641 - accuracy: 0.7173\n",
      "Epoch 62/100\n",
      "804/804 [==============================] - 10s 12ms/step - loss: 0.5625 - accuracy: 0.7178\n",
      "Epoch 63/100\n",
      "804/804 [==============================] - 9s 12ms/step - loss: 0.5620 - accuracy: 0.7183\n",
      "Epoch 64/100\n",
      "804/804 [==============================] - 10s 12ms/step - loss: 0.5621 - accuracy: 0.7175\n",
      "Epoch 65/100\n",
      "804/804 [==============================] - 9s 12ms/step - loss: 0.5632 - accuracy: 0.7174\n",
      "Epoch 66/100\n",
      "804/804 [==============================] - 9s 12ms/step - loss: 0.5625 - accuracy: 0.7177\n",
      "Epoch 67/100\n",
      "804/804 [==============================] - 9s 11ms/step - loss: 0.5625 - accuracy: 0.7180\n",
      "Epoch 68/100\n",
      "804/804 [==============================] - 11s 14ms/step - loss: 0.5621 - accuracy: 0.7177\n",
      "Epoch 69/100\n",
      "804/804 [==============================] - 11s 14ms/step - loss: 0.5628 - accuracy: 0.7180\n",
      "Epoch 70/100\n",
      "804/804 [==============================] - 10s 13ms/step - loss: 0.5616 - accuracy: 0.7181\n",
      "Epoch 71/100\n",
      "804/804 [==============================] - 11s 14ms/step - loss: 0.5629 - accuracy: 0.7172\n",
      "Epoch 72/100\n",
      "804/804 [==============================] - 10s 13ms/step - loss: 0.5642 - accuracy: 0.7175\n",
      "Epoch 73/100\n",
      "804/804 [==============================] - 10s 12ms/step - loss: 0.5619 - accuracy: 0.7179\n",
      "Epoch 74/100\n",
      "804/804 [==============================] - 10s 13ms/step - loss: 0.5610 - accuracy: 0.7183\n",
      "Epoch 75/100\n",
      "804/804 [==============================] - 10s 12ms/step - loss: 0.5615 - accuracy: 0.7182\n",
      "Epoch 76/100\n",
      "804/804 [==============================] - 10s 12ms/step - loss: 0.5752 - accuracy: 0.7175\n",
      "Epoch 77/100\n",
      "804/804 [==============================] - 10s 12ms/step - loss: 0.5623 - accuracy: 0.7187\n",
      "Epoch 78/100\n",
      "804/804 [==============================] - 9s 11ms/step - loss: 0.5609 - accuracy: 0.7185\n",
      "Epoch 79/100\n",
      "804/804 [==============================] - 9s 11ms/step - loss: 0.5621 - accuracy: 0.7184\n",
      "Epoch 80/100\n"
     ]
    },
    {
     "name": "stdout",
     "output_type": "stream",
     "text": [
      "804/804 [==============================] - 8s 10ms/step - loss: 0.5692 - accuracy: 0.7180\n",
      "Epoch 81/100\n",
      "804/804 [==============================] - 9s 12ms/step - loss: 0.5640 - accuracy: 0.7167\n",
      "Epoch 82/100\n",
      "804/804 [==============================] - 9s 12ms/step - loss: 0.5624 - accuracy: 0.7177\n",
      "Epoch 83/100\n",
      "804/804 [==============================] - 10s 13ms/step - loss: 0.5603 - accuracy: 0.7179\n",
      "Epoch 84/100\n",
      "804/804 [==============================] - 10s 12ms/step - loss: 0.5613 - accuracy: 0.7188\n",
      "Epoch 85/100\n",
      "804/804 [==============================] - 9s 11ms/step - loss: 0.5611 - accuracy: 0.7191\n",
      "Epoch 86/100\n",
      "804/804 [==============================] - 10s 12ms/step - loss: 0.5642 - accuracy: 0.7185\n",
      "Epoch 87/100\n",
      "804/804 [==============================] - 9s 12ms/step - loss: 0.5607 - accuracy: 0.7183\n",
      "Epoch 88/100\n",
      "804/804 [==============================] - 9s 12ms/step - loss: 0.5607 - accuracy: 0.7184\n",
      "Epoch 89/100\n",
      "804/804 [==============================] - 9s 12ms/step - loss: 0.5608 - accuracy: 0.7182\n",
      "Epoch 90/100\n",
      "804/804 [==============================] - 9s 12ms/step - loss: 0.5608 - accuracy: 0.7184\n",
      "Epoch 91/100\n",
      "804/804 [==============================] - 9s 11ms/step - loss: 0.5618 - accuracy: 0.7176\n",
      "Epoch 92/100\n",
      "804/804 [==============================] - 9s 11ms/step - loss: 0.5748 - accuracy: 0.7181\n",
      "Epoch 93/100\n",
      "804/804 [==============================] - 9s 12ms/step - loss: 0.5607 - accuracy: 0.7182\n",
      "Epoch 94/100\n",
      "804/804 [==============================] - 9s 11ms/step - loss: 0.5611 - accuracy: 0.7177\n",
      "Epoch 95/100\n",
      "804/804 [==============================] - 9s 12ms/step - loss: 0.5613 - accuracy: 0.7180\n",
      "Epoch 96/100\n",
      "804/804 [==============================] - 9s 11ms/step - loss: 0.5612 - accuracy: 0.7186\n",
      "Epoch 97/100\n",
      "804/804 [==============================] - 9s 11ms/step - loss: 0.5670 - accuracy: 0.7181\n",
      "Epoch 98/100\n",
      "804/804 [==============================] - 9s 11ms/step - loss: 0.5612 - accuracy: 0.7190\n",
      "Epoch 99/100\n",
      "804/804 [==============================] - 9s 11ms/step - loss: 0.5599 - accuracy: 0.7190\n",
      "Epoch 100/100\n",
      "804/804 [==============================] - 9s 11ms/step - loss: 0.5613 - accuracy: 0.7176\n"
     ]
    }
   ],
   "source": [
    "# Train the model\n",
    "# fit_model = nn.fit(X_train_scaled,y_train,epochs=100, callbacks=[save_callback])\n",
    "fit_model = nn.fit(X_train_scaled,y_train,epochs=100)\n"
   ]
  },
  {
   "cell_type": "code",
   "execution_count": 71,
   "metadata": {
    "colab": {
     "base_uri": "https://localhost:8080/"
    },
    "executionInfo": {
     "elapsed": 1175,
     "status": "ok",
     "timestamp": 1692980175867,
     "user": {
      "displayName": "Michael Tolan",
      "userId": "01669100208714846840"
     },
     "user_tz": 240
    },
    "id": "27VmTkCESpbA",
    "outputId": "6f7b03ce-8d86-4702-a5a3-fb680ec156bd"
   },
   "outputs": [
    {
     "name": "stdout",
     "output_type": "stream",
     "text": [
      "268/268 - 2s - loss: 0.6656 - accuracy: 0.7095 - 2s/epoch - 8ms/step\n",
      "Loss: 0.6655919551849365, Accuracy: 0.7095043659210205\n"
     ]
    }
   ],
   "source": [
    "# Evaluate the model using the test data\n",
    "model_loss, model_accuracy = nn.evaluate(X_test_scaled,y_test,verbose=2)\n",
    "print(f\"Loss: {model_loss}, Accuracy: {model_accuracy}\")"
   ]
  },
  {
   "cell_type": "code",
   "execution_count": 72,
   "metadata": {},
   "outputs": [
    {
     "data": {
      "image/png": "[encoded data removed]",
      "text/plain": [
       "<Figure size 640x480 with 1 Axes>"
      ]
     },
     "metadata": {},
     "output_type": "display_data"
    }
   ],
   "source": [
    "# Create a DataFrame containing training history\n",
    "history_df = pd.DataFrame(fit_model.history)\n",
    "\n",
    "# Increase the index by 1 to match the number of epochs\n",
    "history_df.index += 1\n",
    "\n",
    "# Plot the loss\n",
    "history_df.plot(y=\"accuracy\")\n",
    "plt.show()"
   ]
  },
  {
   "cell_type": "code",
   "execution_count": 73,
   "metadata": {},
   "outputs": [
    {
     "data": {
      "image/png": "[encoded data removed]",
      "text/plain": [
       "<Figure size 640x480 with 1 Axes>"
      ]
     },
     "metadata": {},
     "output_type": "display_data"
    }
   ],
   "source": [
    "# Plot the loss\n",
    "history_df.plot(y=\"loss\")\n",
    "plt.show()"
   ]
  },
  {
   "cell_type": "code",
   "execution_count": 74,
   "metadata": {
    "executionInfo": {
     "elapsed": 132,
     "status": "ok",
     "timestamp": 1692980231828,
     "user": {
      "displayName": "Michael Tolan",
      "userId": "01669100208714846840"
     },
     "user_tz": 240
    },
    "id": "spBkDiTFSpbA"
   },
   "outputs": [],
   "source": [
    "# Export our model to HDF5 file\n",
    "nn.save(\"AlphabetSoupCharity.h5\")"
   ]
  },
  {
   "cell_type": "code",
   "execution_count": null,
   "metadata": {},
   "outputs": [],
   "source": []
  }
 ],
 "metadata": {
  "colab": {
   "provenance": [
    {
     "file_id": "15V4kxRiqO_cr5umfAV5d5Zb3TQ7BSoOm",
     "timestamp": 1692915792782
    }
   ]
  },
  "kernelspec": {
   "display_name": "Python 3 (ipykernel)",
   "language": "python",
   "name": "python3"
  },
  "language_info": {
   "codemirror_mode": {
    "name": "ipython",
    "version": 3
   },
   "file_extension": ".py",
   "mimetype": "text/x-python",
   "name": "python",
   "nbconvert_exporter": "python",
   "pygments_lexer": "ipython3",
   "version": "3.10.10"
  },
  "vscode": {
   "interpreter": {
    "hash": "31f2aee4e71d21fbe5cf8b01ff0e069b9275f58929596ceb00d14d90e3e16cd6"
   }
  }
 },
 "nbformat": 4,
 "nbformat_minor": 1
}
