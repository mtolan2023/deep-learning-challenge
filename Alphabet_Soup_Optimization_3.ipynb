{
 "cells": [
  {
   "cell_type": "markdown",
   "metadata": {},
   "source": [
    "## Optimization Attempt # 3\n",
    "    Remove \"STATUS\" column - presumed to not impact outcome.\n",
    "    Create Bins for \"ASK_AMT\", given the wide range of Loan Ask Amounts, replace ASK_AMT column with ASK_BINS\n",
    "    Increase threshold for \"Other\" bins for \"APPLICATION_TYPE\" and \"CLASSIFICATION\"\n",
    "    Increase number of hidden layers to 8 \n",
    "    Increase neurons per layer to 500 for the first layer and 300 for subsequent layers\n",
    "    "
   ]
  },
  {
   "cell_type": "markdown",
   "metadata": {
    "id": "gC_RdhS6Spaz"
   },
   "source": [
    "## Preprocessing"
   ]
  },
  {
   "cell_type": "code",
   "execution_count": 1,
   "metadata": {
    "colab": {
     "base_uri": "https://localhost:8080/",
     "height": 452
    },
    "executionInfo": {
     "elapsed": 28147,
     "status": "ok",
     "timestamp": 1693106193475,
     "user": {
      "displayName": "Michael Tolan",
      "userId": "01669100208714846840"
     },
     "user_tz": 240
    },
    "id": "kjG6DD5aSpa3",
    "outputId": "d3eb5e60-ce59-47f1-a943-1530a8676213",
    "scrolled": true
   },
   "outputs": [
    {
     "name": "stderr",
     "output_type": "stream",
     "text": [
      "2023-08-29 10:44:58.828201: I tensorflow/core/platform/cpu_feature_guard.cc:193] This TensorFlow binary is optimized with oneAPI Deep Neural Network Library (oneDNN) to use the following CPU instructions in performance-critical operations:  SSE4.1 SSE4.2 AVX AVX2 FMA\n",
      "To enable them in other operations, rebuild TensorFlow with the appropriate compiler flags.\n"
     ]
    },
    {
     "data": {
      "text/html": [
       "<div>\n",
       "<style scoped>\n",
       "    .dataframe tbody tr th:only-of-type {\n",
       "        vertical-align: middle;\n",
       "    }\n",
       "\n",
       "    .dataframe tbody tr th {\n",
       "        vertical-align: top;\n",
       "    }\n",
       "\n",
       "    .dataframe thead th {\n",
       "        text-align: right;\n",
       "    }\n",
       "</style>\n",
       "<table border=\"1\" class=\"dataframe\">\n",
       "  <thead>\n",
       "    <tr style=\"text-align: right;\">\n",
       "      <th></th>\n",
       "      <th>EIN</th>\n",
       "      <th>NAME</th>\n",
       "      <th>APPLICATION_TYPE</th>\n",
       "      <th>AFFILIATION</th>\n",
       "      <th>CLASSIFICATION</th>\n",
       "      <th>USE_CASE</th>\n",
       "      <th>ORGANIZATION</th>\n",
       "      <th>STATUS</th>\n",
       "      <th>INCOME_AMT</th>\n",
       "      <th>SPECIAL_CONSIDERATIONS</th>\n",
       "      <th>ASK_AMT</th>\n",
       "      <th>IS_SUCCESSFUL</th>\n",
       "    </tr>\n",
       "  </thead>\n",
       "  <tbody>\n",
       "    <tr>\n",
       "      <th>0</th>\n",
       "      <td>10520599</td>\n",
       "      <td>BLUE KNIGHTS MOTORCYCLE CLUB</td>\n",
       "      <td>T10</td>\n",
       "      <td>Independent</td>\n",
       "      <td>C1000</td>\n",
       "      <td>ProductDev</td>\n",
       "      <td>Association</td>\n",
       "      <td>1</td>\n",
       "      <td>0</td>\n",
       "      <td>N</td>\n",
       "      <td>5000</td>\n",
       "      <td>1</td>\n",
       "    </tr>\n",
       "    <tr>\n",
       "      <th>1</th>\n",
       "      <td>10531628</td>\n",
       "      <td>AMERICAN CHESAPEAKE CLUB CHARITABLE TR</td>\n",
       "      <td>T3</td>\n",
       "      <td>Independent</td>\n",
       "      <td>C2000</td>\n",
       "      <td>Preservation</td>\n",
       "      <td>Co-operative</td>\n",
       "      <td>1</td>\n",
       "      <td>1-9999</td>\n",
       "      <td>N</td>\n",
       "      <td>108590</td>\n",
       "      <td>1</td>\n",
       "    </tr>\n",
       "    <tr>\n",
       "      <th>2</th>\n",
       "      <td>10547893</td>\n",
       "      <td>ST CLOUD PROFESSIONAL FIREFIGHTERS</td>\n",
       "      <td>T5</td>\n",
       "      <td>CompanySponsored</td>\n",
       "      <td>C3000</td>\n",
       "      <td>ProductDev</td>\n",
       "      <td>Association</td>\n",
       "      <td>1</td>\n",
       "      <td>0</td>\n",
       "      <td>N</td>\n",
       "      <td>5000</td>\n",
       "      <td>0</td>\n",
       "    </tr>\n",
       "    <tr>\n",
       "      <th>3</th>\n",
       "      <td>10553066</td>\n",
       "      <td>SOUTHSIDE ATHLETIC ASSOCIATION</td>\n",
       "      <td>T3</td>\n",
       "      <td>CompanySponsored</td>\n",
       "      <td>C2000</td>\n",
       "      <td>Preservation</td>\n",
       "      <td>Trust</td>\n",
       "      <td>1</td>\n",
       "      <td>10000-24999</td>\n",
       "      <td>N</td>\n",
       "      <td>6692</td>\n",
       "      <td>1</td>\n",
       "    </tr>\n",
       "    <tr>\n",
       "      <th>4</th>\n",
       "      <td>10556103</td>\n",
       "      <td>GENETIC RESEARCH INSTITUTE OF THE DESERT</td>\n",
       "      <td>T3</td>\n",
       "      <td>Independent</td>\n",
       "      <td>C1000</td>\n",
       "      <td>Heathcare</td>\n",
       "      <td>Trust</td>\n",
       "      <td>1</td>\n",
       "      <td>100000-499999</td>\n",
       "      <td>N</td>\n",
       "      <td>142590</td>\n",
       "      <td>1</td>\n",
       "    </tr>\n",
       "  </tbody>\n",
       "</table>\n",
       "</div>"
      ],
      "text/plain": [
       "        EIN                                      NAME APPLICATION_TYPE  \\\n",
       "0  10520599              BLUE KNIGHTS MOTORCYCLE CLUB              T10   \n",
       "1  10531628    AMERICAN CHESAPEAKE CLUB CHARITABLE TR               T3   \n",
       "2  10547893        ST CLOUD PROFESSIONAL FIREFIGHTERS               T5   \n",
       "3  10553066            SOUTHSIDE ATHLETIC ASSOCIATION               T3   \n",
       "4  10556103  GENETIC RESEARCH INSTITUTE OF THE DESERT               T3   \n",
       "\n",
       "        AFFILIATION CLASSIFICATION      USE_CASE  ORGANIZATION  STATUS  \\\n",
       "0       Independent          C1000    ProductDev   Association       1   \n",
       "1       Independent          C2000  Preservation  Co-operative       1   \n",
       "2  CompanySponsored          C3000    ProductDev   Association       1   \n",
       "3  CompanySponsored          C2000  Preservation         Trust       1   \n",
       "4       Independent          C1000     Heathcare         Trust       1   \n",
       "\n",
       "      INCOME_AMT SPECIAL_CONSIDERATIONS  ASK_AMT  IS_SUCCESSFUL  \n",
       "0              0                      N     5000              1  \n",
       "1         1-9999                      N   108590              1  \n",
       "2              0                      N     5000              0  \n",
       "3    10000-24999                      N     6692              1  \n",
       "4  100000-499999                      N   142590              1  "
      ]
     },
     "execution_count": 1,
     "metadata": {},
     "output_type": "execute_result"
    }
   ],
   "source": [
    "# Import our dependencies\n",
    "from sklearn.model_selection import train_test_split\n",
    "from sklearn.preprocessing import StandardScaler\n",
    "import pandas as pd\n",
    "import tensorflow as tf\n",
    "import matplotlib.pyplot as plt\n",
    "\n",
    "from keras.callbacks import Callback, ModelCheckpoint\n",
    "\n",
    "from warnings import simplefilter\n",
    "# ignore all future warnings\n",
    "simplefilter(action='ignore')\n",
    "\n",
    "#  Import and read the charity_data.csv.\n",
    "import pandas as pd\n",
    "application_df = pd.read_csv(\"https://static.bc-edx.com/data/dl-1-2/m21/lms/starter/charity_data.csv\")\n",
    "application_df.head()"
   ]
  },
  {
   "cell_type": "code",
   "execution_count": 2,
   "metadata": {
    "colab": {
     "base_uri": "https://localhost:8080/",
     "height": 206
    },
    "executionInfo": {
     "elapsed": 16,
     "status": "ok",
     "timestamp": 1693106193476,
     "user": {
      "displayName": "Michael Tolan",
      "userId": "01669100208714846840"
     },
     "user_tz": 240
    },
    "id": "IuG8EeJfSpa5",
    "outputId": "89c2d954-4491-4ed2-b51f-8751e4addcc4",
    "scrolled": true
   },
   "outputs": [
    {
     "data": {
      "text/html": [
       "<div>\n",
       "<style scoped>\n",
       "    .dataframe tbody tr th:only-of-type {\n",
       "        vertical-align: middle;\n",
       "    }\n",
       "\n",
       "    .dataframe tbody tr th {\n",
       "        vertical-align: top;\n",
       "    }\n",
       "\n",
       "    .dataframe thead th {\n",
       "        text-align: right;\n",
       "    }\n",
       "</style>\n",
       "<table border=\"1\" class=\"dataframe\">\n",
       "  <thead>\n",
       "    <tr style=\"text-align: right;\">\n",
       "      <th></th>\n",
       "      <th>APPLICATION_TYPE</th>\n",
       "      <th>AFFILIATION</th>\n",
       "      <th>CLASSIFICATION</th>\n",
       "      <th>USE_CASE</th>\n",
       "      <th>ORGANIZATION</th>\n",
       "      <th>INCOME_AMT</th>\n",
       "      <th>SPECIAL_CONSIDERATIONS</th>\n",
       "      <th>ASK_AMT</th>\n",
       "      <th>IS_SUCCESSFUL</th>\n",
       "    </tr>\n",
       "  </thead>\n",
       "  <tbody>\n",
       "    <tr>\n",
       "      <th>0</th>\n",
       "      <td>T10</td>\n",
       "      <td>Independent</td>\n",
       "      <td>C1000</td>\n",
       "      <td>ProductDev</td>\n",
       "      <td>Association</td>\n",
       "      <td>0</td>\n",
       "      <td>N</td>\n",
       "      <td>5000</td>\n",
       "      <td>1</td>\n",
       "    </tr>\n",
       "    <tr>\n",
       "      <th>1</th>\n",
       "      <td>T3</td>\n",
       "      <td>Independent</td>\n",
       "      <td>C2000</td>\n",
       "      <td>Preservation</td>\n",
       "      <td>Co-operative</td>\n",
       "      <td>1-9999</td>\n",
       "      <td>N</td>\n",
       "      <td>108590</td>\n",
       "      <td>1</td>\n",
       "    </tr>\n",
       "    <tr>\n",
       "      <th>2</th>\n",
       "      <td>T5</td>\n",
       "      <td>CompanySponsored</td>\n",
       "      <td>C3000</td>\n",
       "      <td>ProductDev</td>\n",
       "      <td>Association</td>\n",
       "      <td>0</td>\n",
       "      <td>N</td>\n",
       "      <td>5000</td>\n",
       "      <td>0</td>\n",
       "    </tr>\n",
       "    <tr>\n",
       "      <th>3</th>\n",
       "      <td>T3</td>\n",
       "      <td>CompanySponsored</td>\n",
       "      <td>C2000</td>\n",
       "      <td>Preservation</td>\n",
       "      <td>Trust</td>\n",
       "      <td>10000-24999</td>\n",
       "      <td>N</td>\n",
       "      <td>6692</td>\n",
       "      <td>1</td>\n",
       "    </tr>\n",
       "    <tr>\n",
       "      <th>4</th>\n",
       "      <td>T3</td>\n",
       "      <td>Independent</td>\n",
       "      <td>C1000</td>\n",
       "      <td>Heathcare</td>\n",
       "      <td>Trust</td>\n",
       "      <td>100000-499999</td>\n",
       "      <td>N</td>\n",
       "      <td>142590</td>\n",
       "      <td>1</td>\n",
       "    </tr>\n",
       "  </tbody>\n",
       "</table>\n",
       "</div>"
      ],
      "text/plain": [
       "  APPLICATION_TYPE       AFFILIATION CLASSIFICATION      USE_CASE  \\\n",
       "0              T10       Independent          C1000    ProductDev   \n",
       "1               T3       Independent          C2000  Preservation   \n",
       "2               T5  CompanySponsored          C3000    ProductDev   \n",
       "3               T3  CompanySponsored          C2000  Preservation   \n",
       "4               T3       Independent          C1000     Heathcare   \n",
       "\n",
       "   ORGANIZATION     INCOME_AMT SPECIAL_CONSIDERATIONS  ASK_AMT  IS_SUCCESSFUL  \n",
       "0   Association              0                      N     5000              1  \n",
       "1  Co-operative         1-9999                      N   108590              1  \n",
       "2   Association              0                      N     5000              0  \n",
       "3         Trust    10000-24999                      N     6692              1  \n",
       "4         Trust  100000-499999                      N   142590              1  "
      ]
     },
     "execution_count": 2,
     "metadata": {},
     "output_type": "execute_result"
    }
   ],
   "source": [
    "# Drop the non-beneficial ID columns, 'EIN' and 'NAME'.\n",
    "application_clean = application_df.copy()\n",
    "application_clean.drop(columns=[\"EIN\",\"NAME\",\"STATUS\"], axis=1, inplace=True)\n",
    "application_clean.head()"
   ]
  },
  {
   "cell_type": "code",
   "execution_count": 3,
   "metadata": {
    "colab": {
     "base_uri": "https://localhost:8080/"
    },
    "executionInfo": {
     "elapsed": 15,
     "status": "ok",
     "timestamp": 1693106193477,
     "user": {
      "displayName": "Michael Tolan",
      "userId": "01669100208714846840"
     },
     "user_tz": 240
    },
    "id": "sFSeJFOjSpa6",
    "outputId": "820b19ca-97b5-48ae-a4bb-4c2539fafaf6",
    "scrolled": true
   },
   "outputs": [
    {
     "data": {
      "text/plain": [
       "APPLICATION_TYPE            17\n",
       "AFFILIATION                  6\n",
       "CLASSIFICATION              71\n",
       "USE_CASE                     5\n",
       "ORGANIZATION                 4\n",
       "INCOME_AMT                   9\n",
       "SPECIAL_CONSIDERATIONS       2\n",
       "ASK_AMT                   8747\n",
       "IS_SUCCESSFUL                2\n",
       "dtype: int64"
      ]
     },
     "execution_count": 3,
     "metadata": {},
     "output_type": "execute_result"
    }
   ],
   "source": [
    "# Determine the number of unique values in each column.\n",
    "application_clean.nunique()"
   ]
  },
  {
   "cell_type": "code",
   "execution_count": 4,
   "metadata": {
    "executionInfo": {
     "elapsed": 10,
     "status": "ok",
     "timestamp": 1693106193477,
     "user": {
      "displayName": "Michael Tolan",
      "userId": "01669100208714846840"
     },
     "user_tz": 240
    },
    "id": "66JL65jSXoB4"
   },
   "outputs": [],
   "source": [
    "#create variable for ask_amt\n",
    "amt = application_clean[\"ASK_AMT\"]"
   ]
  },
  {
   "cell_type": "code",
   "execution_count": 9,
   "metadata": {
    "executionInfo": {
     "elapsed": 18,
     "status": "ok",
     "timestamp": 1693106193875,
     "user": {
      "displayName": "Michael Tolan",
      "userId": "01669100208714846840"
     },
     "user_tz": 240
    },
    "id": "tOAztuwabCXt"
   },
   "outputs": [],
   "source": [
    "#create bins/labels for binning\n",
    "bins = [0, 5001, 10000, 20000, 50000, 100000, 250000, 500000, 1000000, 10000000, 90000000000]\n",
    "labels = [\" 5K \", \" 5K-10K \", \" 10K-20k\", \" 20k-50k \", \" 50k-100k \", \"100k-250k\", \"250k-500k\", \"500k-1M\", \"1M-10M\", \">10M\" ]"
   ]
  },
  {
   "cell_type": "code",
   "execution_count": 10,
   "metadata": {
    "executionInfo": {
     "elapsed": 18,
     "status": "ok",
     "timestamp": 1693106193875,
     "user": {
      "displayName": "Michael Tolan",
      "userId": "01669100208714846840"
     },
     "user_tz": 240
    },
    "id": "4C0jjRAOa_v7"
   },
   "outputs": [],
   "source": [
    "#Bin ask_amts in new ask_bins column\n",
    "application_clean[\"ASK_BINS\"] = pd.cut(amt, bins, labels=labels)"
   ]
  },
  {
   "cell_type": "code",
   "execution_count": 12,
   "metadata": {
    "colab": {
     "base_uri": "https://localhost:8080/"
    },
    "executionInfo": {
     "elapsed": 16,
     "status": "ok",
     "timestamp": 1693106193876,
     "user": {
      "displayName": "Michael Tolan",
      "userId": "01669100208714846840"
     },
     "user_tz": 240
    },
    "id": "LuHphHMtMdES",
    "outputId": "1f42f92b-2d5e-4ccb-b16e-a8907d359566"
   },
   "outputs": [
    {
     "data": {
      "text/plain": [
       " 5K           25399\n",
       " 20k-50k       1609\n",
       "100k-250k      1441\n",
       " 50k-100k      1423\n",
       "1M-10M         1165\n",
       "250k-500k       863\n",
       " 10K-20k        789\n",
       "500k-1M         650\n",
       " 5K-10K         548\n",
       ">10M            412\n",
       "Name: ASK_BINS, dtype: int64"
      ]
     },
     "execution_count": 12,
     "metadata": {},
     "output_type": "execute_result"
    }
   ],
   "source": [
    "#check bins\n",
    "application_clean[\"ASK_BINS\"].value_counts()"
   ]
  },
  {
   "cell_type": "code",
   "execution_count": 13,
   "metadata": {
    "executionInfo": {
     "elapsed": 14,
     "status": "ok",
     "timestamp": 1693106193876,
     "user": {
      "displayName": "Michael Tolan",
      "userId": "01669100208714846840"
     },
     "user_tz": 240
    },
    "id": "mxFffMEmNlgz"
   },
   "outputs": [],
   "source": [
    "#drop old ask_amt column\n",
    "application_clean.drop(columns=\"ASK_AMT\", axis=1, inplace=True)"
   ]
  },
  {
   "cell_type": "code",
   "execution_count": 17,
   "metadata": {
    "colab": {
     "base_uri": "https://localhost:8080/"
    },
    "executionInfo": {
     "elapsed": 16,
     "status": "ok",
     "timestamp": 1693106194240,
     "user": {
      "displayName": "Michael Tolan",
      "userId": "01669100208714846840"
     },
     "user_tz": 240
    },
    "id": "rkrhUd1TTlig",
    "outputId": "692fa409-7ee7-46d7-a42b-ff6f61b0a238"
   },
   "outputs": [
    {
     "data": {
      "text/plain": [
       "T3     27037\n",
       "T4      1542\n",
       "T6      1216\n",
       "T5      1173\n",
       "T19     1065\n",
       "T8       737\n",
       "T7       725\n",
       "T10      528\n",
       "T9       156\n",
       "T13       66\n",
       "T12       27\n",
       "T2        16\n",
       "T25        3\n",
       "T14        3\n",
       "T29        2\n",
       "T15        2\n",
       "T17        1\n",
       "Name: APPLICATION_TYPE, dtype: int64"
      ]
     },
     "execution_count": 17,
     "metadata": {},
     "output_type": "execute_result"
    }
   ],
   "source": [
    "# Look at APPLICATION_TYPE value counts for binning\n",
    "application_values = application_clean[\"APPLICATION_TYPE\"].value_counts()\n",
    "application_values"
   ]
  },
  {
   "cell_type": "code",
   "execution_count": 18,
   "metadata": {
    "executionInfo": {
     "elapsed": 13,
     "status": "ok",
     "timestamp": 1693106194240,
     "user": {
      "displayName": "Michael Tolan",
      "userId": "01669100208714846840"
     },
     "user_tz": 240
    },
    "id": "5gaaH5QTXIuo"
   },
   "outputs": [],
   "source": [
    "#Compile values into dictionary\n",
    "application_dict = application_values.to_dict()"
   ]
  },
  {
   "cell_type": "code",
   "execution_count": 19,
   "metadata": {
    "colab": {
     "base_uri": "https://localhost:8080/"
    },
    "executionInfo": {
     "elapsed": 12,
     "status": "ok",
     "timestamp": 1693106194240,
     "user": {
      "displayName": "Michael Tolan",
      "userId": "01669100208714846840"
     },
     "user_tz": 240
    },
    "id": "12aP-KUFWSJi",
    "outputId": "b1342e54-9a15-463a-ee7d-5512f4859a2d"
   },
   "outputs": [
    {
     "data": {
      "text/plain": [
       "T3       27037\n",
       "Other     7262\n",
       "Name: APPLICATION_TYPE, dtype: int64"
      ]
     },
     "execution_count": 19,
     "metadata": {},
     "output_type": "execute_result"
    }
   ],
   "source": [
    "# Choose a cutoff value and create a list of application types to be replaced\n",
    "# use the variable name `application_types_to_replace`\n",
    "application_types_to_replace = []\n",
    "\n",
    "for key,value in application_dict.items():\n",
    "  if value < 27037:\n",
    "    application_types_to_replace.append(key)\n",
    "\n",
    "# Replace in dataframe\n",
    "for app in application_types_to_replace:\n",
    "    application_clean['APPLICATION_TYPE'] = application_clean['APPLICATION_TYPE'].replace(app,\"Other\")\n",
    "\n",
    "# Check to make sure binning was successful\n",
    "application_clean['APPLICATION_TYPE'].value_counts()"
   ]
  },
  {
   "cell_type": "code",
   "execution_count": 20,
   "metadata": {
    "colab": {
     "base_uri": "https://localhost:8080/"
    },
    "executionInfo": {
     "elapsed": 11,
     "status": "ok",
     "timestamp": 1693106194241,
     "user": {
      "displayName": "Michael Tolan",
      "userId": "01669100208714846840"
     },
     "user_tz": 240
    },
    "id": "MxSZxuOvSpa8",
    "outputId": "58086c55-77eb-4698-94da-90fb0809c614"
   },
   "outputs": [
    {
     "data": {
      "text/plain": [
       "C1000    17326\n",
       "C2000     6074\n",
       "C1200     4837\n",
       "C3000     1918\n",
       "C2100     1883\n",
       "         ...  \n",
       "C4120        1\n",
       "C8210        1\n",
       "C2561        1\n",
       "C4500        1\n",
       "C2150        1\n",
       "Name: CLASSIFICATION, Length: 71, dtype: int64"
      ]
     },
     "execution_count": 20,
     "metadata": {},
     "output_type": "execute_result"
    }
   ],
   "source": [
    "# Look at CLASSIFICATION value counts for binning\n",
    "class_values = application_clean[\"CLASSIFICATION\"].value_counts()\n",
    "class_values"
   ]
  },
  {
   "cell_type": "code",
   "execution_count": 21,
   "metadata": {
    "colab": {
     "base_uri": "https://localhost:8080/"
    },
    "executionInfo": {
     "elapsed": 8,
     "status": "ok",
     "timestamp": 1693106194698,
     "user": {
      "displayName": "Michael Tolan",
      "userId": "01669100208714846840"
     },
     "user_tz": 240
    },
    "id": "keV2tNRaSpa8",
    "outputId": "7ec11f44-0269-4f32-b5a3-3813bfd2cb77"
   },
   "outputs": [
    {
     "data": {
      "text/plain": [
       "C1000    17326\n",
       "C2000     6074\n",
       "C1200     4837\n",
       "C3000     1918\n",
       "C2100     1883\n",
       "C7000      777\n",
       "C1700      287\n",
       "C4000      194\n",
       "C5000      116\n",
       "C1270      114\n",
       "C2700      104\n",
       "C2800       95\n",
       "C7100       75\n",
       "C1300       58\n",
       "C1280       50\n",
       "C1230       36\n",
       "C1400       34\n",
       "C7200       32\n",
       "C2300       32\n",
       "C1240       30\n",
       "C8000       20\n",
       "C7120       18\n",
       "C1500       16\n",
       "C1800       15\n",
       "C6000       15\n",
       "C1250       14\n",
       "C8200       11\n",
       "C1238       10\n",
       "C1278       10\n",
       "C1235        9\n",
       "C1237        9\n",
       "C7210        7\n",
       "C2400        6\n",
       "C1720        6\n",
       "C4100        6\n",
       "C1257        5\n",
       "C1600        5\n",
       "C1260        3\n",
       "C2710        3\n",
       "C0           3\n",
       "C3200        2\n",
       "C1234        2\n",
       "C1246        2\n",
       "C1267        2\n",
       "C1256        2\n",
       "Name: CLASSIFICATION, dtype: int64"
      ]
     },
     "execution_count": 21,
     "metadata": {},
     "output_type": "execute_result"
    }
   ],
   "source": [
    "# You may find it helpful to look at CLASSIFICATION value counts >1\n",
    "class_values_limited = application_clean[\"CLASSIFICATION\"].value_counts()[application_clean[\"CLASSIFICATION\"].value_counts() >1]\n",
    "class_values_limited"
   ]
  },
  {
   "cell_type": "code",
   "execution_count": 22,
   "metadata": {
    "executionInfo": {
     "elapsed": 7,
     "status": "ok",
     "timestamp": 1693106194699,
     "user": {
      "displayName": "Michael Tolan",
      "userId": "01669100208714846840"
     },
     "user_tz": 240
    },
    "id": "N68J2OOlZPV9"
   },
   "outputs": [],
   "source": [
    "# Convert value counts to dict\n",
    "class_dict = class_values.to_dict()"
   ]
  },
  {
   "cell_type": "code",
   "execution_count": 23,
   "metadata": {
    "colab": {
     "base_uri": "https://localhost:8080/"
    },
    "executionInfo": {
     "elapsed": 7,
     "status": "ok",
     "timestamp": 1693106194699,
     "user": {
      "displayName": "Michael Tolan",
      "userId": "01669100208714846840"
     },
     "user_tz": 240
    },
    "id": "mkdEQZlNSpa9",
    "outputId": "dc5075bd-751d-4154-dd4b-d2e74e444533",
    "scrolled": true
   },
   "outputs": [
    {
     "data": {
      "text/plain": [
       "C1000    17326\n",
       "C2000     6074\n",
       "C1200     4837\n",
       "Other     2261\n",
       "C3000     1918\n",
       "C2100     1883\n",
       "Name: CLASSIFICATION, dtype: int64"
      ]
     },
     "execution_count": 23,
     "metadata": {},
     "output_type": "execute_result"
    }
   ],
   "source": [
    "# Choose a cutoff value and create a list of classifications to be replaced\n",
    "# use the variable name `classifications_to_replace`\n",
    "classifications_to_replace = []\n",
    "\n",
    "for key,value in class_dict.items():\n",
    "  if value < 1883:\n",
    "    classifications_to_replace.append(key)\n",
    "\n",
    "\n",
    "# Replace in dataframe\n",
    "for cls in classifications_to_replace:\n",
    "    application_clean['CLASSIFICATION'] = application_clean['CLASSIFICATION'].replace(cls,\"Other\")\n",
    "\n",
    "# Check to make sure binning was successful\n",
    "application_clean['CLASSIFICATION'].value_counts()"
   ]
  },
  {
   "cell_type": "code",
   "execution_count": 24,
   "metadata": {
    "executionInfo": {
     "elapsed": 5,
     "status": "ok",
     "timestamp": 1693106194700,
     "user": {
      "displayName": "Michael Tolan",
      "userId": "01669100208714846840"
     },
     "user_tz": 240
    },
    "id": "bK1m21ZMUCEd"
   },
   "outputs": [
    {
     "data": {
      "text/plain": [
       "APPLICATION_TYPE           2\n",
       "AFFILIATION                6\n",
       "CLASSIFICATION             6\n",
       "USE_CASE                   5\n",
       "ORGANIZATION               4\n",
       "INCOME_AMT                 9\n",
       "SPECIAL_CONSIDERATIONS     2\n",
       "IS_SUCCESSFUL              2\n",
       "ASK_BINS                  10\n",
       "dtype: int64"
      ]
     },
     "execution_count": 24,
     "metadata": {},
     "output_type": "execute_result"
    }
   ],
   "source": [
    "# application_clean.drop(columns=[\"CLASSIFICATION\", \"APPLICATION_TYPE\", \"INCOME_AMT\"], axis=1, inplace=True)\n",
    "application_clean.nunique()"
   ]
  },
  {
   "cell_type": "code",
   "execution_count": 26,
   "metadata": {
    "colab": {
     "base_uri": "https://localhost:8080/",
     "height": 273
    },
    "executionInfo": {
     "elapsed": 888,
     "status": "ok",
     "timestamp": 1693106195583,
     "user": {
      "displayName": "Michael Tolan",
      "userId": "01669100208714846840"
     },
     "user_tz": 240
    },
    "id": "nnDHZ2q5Spa-",
    "outputId": "2613efab-be2f-4747-a36b-7e861b9982ea"
   },
   "outputs": [
    {
     "data": {
      "text/html": [
       "<div>\n",
       "<style scoped>\n",
       "    .dataframe tbody tr th:only-of-type {\n",
       "        vertical-align: middle;\n",
       "    }\n",
       "\n",
       "    .dataframe tbody tr th {\n",
       "        vertical-align: top;\n",
       "    }\n",
       "\n",
       "    .dataframe thead th {\n",
       "        text-align: right;\n",
       "    }\n",
       "</style>\n",
       "<table border=\"1\" class=\"dataframe\">\n",
       "  <thead>\n",
       "    <tr style=\"text-align: right;\">\n",
       "      <th></th>\n",
       "      <th>IS_SUCCESSFUL</th>\n",
       "      <th>CLASSIFICATION_C1000</th>\n",
       "      <th>CLASSIFICATION_C1200</th>\n",
       "      <th>CLASSIFICATION_C2000</th>\n",
       "      <th>CLASSIFICATION_C2100</th>\n",
       "      <th>CLASSIFICATION_C3000</th>\n",
       "      <th>CLASSIFICATION_Other</th>\n",
       "      <th>APPLICATION_TYPE_Other</th>\n",
       "      <th>APPLICATION_TYPE_T3</th>\n",
       "      <th>ASK_BINS_ 5K</th>\n",
       "      <th>...</th>\n",
       "      <th>SPECIAL_CONSIDERATIONS_Y</th>\n",
       "      <th>INCOME_AMT_0</th>\n",
       "      <th>INCOME_AMT_1-9999</th>\n",
       "      <th>INCOME_AMT_10000-24999</th>\n",
       "      <th>INCOME_AMT_100000-499999</th>\n",
       "      <th>INCOME_AMT_10M-50M</th>\n",
       "      <th>INCOME_AMT_1M-5M</th>\n",
       "      <th>INCOME_AMT_25000-99999</th>\n",
       "      <th>INCOME_AMT_50M+</th>\n",
       "      <th>INCOME_AMT_5M-10M</th>\n",
       "    </tr>\n",
       "  </thead>\n",
       "  <tbody>\n",
       "    <tr>\n",
       "      <th>0</th>\n",
       "      <td>1</td>\n",
       "      <td>1</td>\n",
       "      <td>0</td>\n",
       "      <td>0</td>\n",
       "      <td>0</td>\n",
       "      <td>0</td>\n",
       "      <td>0</td>\n",
       "      <td>1</td>\n",
       "      <td>0</td>\n",
       "      <td>1</td>\n",
       "      <td>...</td>\n",
       "      <td>0</td>\n",
       "      <td>1</td>\n",
       "      <td>0</td>\n",
       "      <td>0</td>\n",
       "      <td>0</td>\n",
       "      <td>0</td>\n",
       "      <td>0</td>\n",
       "      <td>0</td>\n",
       "      <td>0</td>\n",
       "      <td>0</td>\n",
       "    </tr>\n",
       "    <tr>\n",
       "      <th>1</th>\n",
       "      <td>1</td>\n",
       "      <td>0</td>\n",
       "      <td>0</td>\n",
       "      <td>1</td>\n",
       "      <td>0</td>\n",
       "      <td>0</td>\n",
       "      <td>0</td>\n",
       "      <td>0</td>\n",
       "      <td>1</td>\n",
       "      <td>0</td>\n",
       "      <td>...</td>\n",
       "      <td>0</td>\n",
       "      <td>0</td>\n",
       "      <td>1</td>\n",
       "      <td>0</td>\n",
       "      <td>0</td>\n",
       "      <td>0</td>\n",
       "      <td>0</td>\n",
       "      <td>0</td>\n",
       "      <td>0</td>\n",
       "      <td>0</td>\n",
       "    </tr>\n",
       "    <tr>\n",
       "      <th>2</th>\n",
       "      <td>0</td>\n",
       "      <td>0</td>\n",
       "      <td>0</td>\n",
       "      <td>0</td>\n",
       "      <td>0</td>\n",
       "      <td>1</td>\n",
       "      <td>0</td>\n",
       "      <td>1</td>\n",
       "      <td>0</td>\n",
       "      <td>1</td>\n",
       "      <td>...</td>\n",
       "      <td>0</td>\n",
       "      <td>1</td>\n",
       "      <td>0</td>\n",
       "      <td>0</td>\n",
       "      <td>0</td>\n",
       "      <td>0</td>\n",
       "      <td>0</td>\n",
       "      <td>0</td>\n",
       "      <td>0</td>\n",
       "      <td>0</td>\n",
       "    </tr>\n",
       "    <tr>\n",
       "      <th>3</th>\n",
       "      <td>1</td>\n",
       "      <td>0</td>\n",
       "      <td>0</td>\n",
       "      <td>1</td>\n",
       "      <td>0</td>\n",
       "      <td>0</td>\n",
       "      <td>0</td>\n",
       "      <td>0</td>\n",
       "      <td>1</td>\n",
       "      <td>0</td>\n",
       "      <td>...</td>\n",
       "      <td>0</td>\n",
       "      <td>0</td>\n",
       "      <td>0</td>\n",
       "      <td>1</td>\n",
       "      <td>0</td>\n",
       "      <td>0</td>\n",
       "      <td>0</td>\n",
       "      <td>0</td>\n",
       "      <td>0</td>\n",
       "      <td>0</td>\n",
       "    </tr>\n",
       "    <tr>\n",
       "      <th>4</th>\n",
       "      <td>1</td>\n",
       "      <td>1</td>\n",
       "      <td>0</td>\n",
       "      <td>0</td>\n",
       "      <td>0</td>\n",
       "      <td>0</td>\n",
       "      <td>0</td>\n",
       "      <td>0</td>\n",
       "      <td>1</td>\n",
       "      <td>0</td>\n",
       "      <td>...</td>\n",
       "      <td>0</td>\n",
       "      <td>0</td>\n",
       "      <td>0</td>\n",
       "      <td>0</td>\n",
       "      <td>1</td>\n",
       "      <td>0</td>\n",
       "      <td>0</td>\n",
       "      <td>0</td>\n",
       "      <td>0</td>\n",
       "      <td>0</td>\n",
       "    </tr>\n",
       "  </tbody>\n",
       "</table>\n",
       "<p>5 rows × 45 columns</p>\n",
       "</div>"
      ],
      "text/plain": [
       "   IS_SUCCESSFUL  CLASSIFICATION_C1000  CLASSIFICATION_C1200  \\\n",
       "0              1                     1                     0   \n",
       "1              1                     0                     0   \n",
       "2              0                     0                     0   \n",
       "3              1                     0                     0   \n",
       "4              1                     1                     0   \n",
       "\n",
       "   CLASSIFICATION_C2000  CLASSIFICATION_C2100  CLASSIFICATION_C3000  \\\n",
       "0                     0                     0                     0   \n",
       "1                     1                     0                     0   \n",
       "2                     0                     0                     1   \n",
       "3                     1                     0                     0   \n",
       "4                     0                     0                     0   \n",
       "\n",
       "   CLASSIFICATION_Other  APPLICATION_TYPE_Other  APPLICATION_TYPE_T3  \\\n",
       "0                     0                       1                    0   \n",
       "1                     0                       0                    1   \n",
       "2                     0                       1                    0   \n",
       "3                     0                       0                    1   \n",
       "4                     0                       0                    1   \n",
       "\n",
       "   ASK_BINS_ 5K   ...  SPECIAL_CONSIDERATIONS_Y  INCOME_AMT_0  \\\n",
       "0              1  ...                         0             1   \n",
       "1              0  ...                         0             0   \n",
       "2              1  ...                         0             1   \n",
       "3              0  ...                         0             0   \n",
       "4              0  ...                         0             0   \n",
       "\n",
       "   INCOME_AMT_1-9999  INCOME_AMT_10000-24999  INCOME_AMT_100000-499999  \\\n",
       "0                  0                       0                         0   \n",
       "1                  1                       0                         0   \n",
       "2                  0                       0                         0   \n",
       "3                  0                       1                         0   \n",
       "4                  0                       0                         1   \n",
       "\n",
       "   INCOME_AMT_10M-50M  INCOME_AMT_1M-5M  INCOME_AMT_25000-99999  \\\n",
       "0                   0                 0                       0   \n",
       "1                   0                 0                       0   \n",
       "2                   0                 0                       0   \n",
       "3                   0                 0                       0   \n",
       "4                   0                 0                       0   \n",
       "\n",
       "   INCOME_AMT_50M+  INCOME_AMT_5M-10M  \n",
       "0                0                  0  \n",
       "1                0                  0  \n",
       "2                0                  0  \n",
       "3                0                  0  \n",
       "4                0                  0  \n",
       "\n",
       "[5 rows x 45 columns]"
      ]
     },
     "execution_count": 26,
     "metadata": {},
     "output_type": "execute_result"
    }
   ],
   "source": [
    "# Convert categorical data to numeric with `pd.get_dummies`\n",
    "application_dummies = pd.get_dummies(application_clean, columns=[\"CLASSIFICATION\", \"APPLICATION_TYPE\", \\\n",
    "                                                                 \"ASK_BINS\",\"USE_CASE\",\"AFFILIATION\", \"ORGANIZATION\",\"SPECIAL_CONSIDERATIONS\",\"INCOME_AMT\"])\n",
    "\n",
    "application_dummies.head()"
   ]
  },
  {
   "cell_type": "code",
   "execution_count": 27,
   "metadata": {
    "executionInfo": {
     "elapsed": 17,
     "status": "ok",
     "timestamp": 1693106195589,
     "user": {
      "displayName": "Michael Tolan",
      "userId": "01669100208714846840"
     },
     "user_tz": 240
    },
    "id": "hIy9V65rSpa-"
   },
   "outputs": [],
   "source": [
    "# Split our preprocessed data into our features and target arrays\n",
    "y = application_dummies[\"IS_SUCCESSFUL\"].values.reshape(-1, 1)\n",
    "X = application_dummies.copy()\n",
    "X.drop(columns=\"IS_SUCCESSFUL\", axis=1, inplace=True)\n",
    "\n",
    "# Split the preprocessed data into a training and testing dataset\n",
    "X_train, X_test, y_train, y_test = train_test_split(X, y, random_state=1)"
   ]
  },
  {
   "cell_type": "code",
   "execution_count": 28,
   "metadata": {
    "executionInfo": {
     "elapsed": 17,
     "status": "ok",
     "timestamp": 1693106195590,
     "user": {
      "displayName": "Michael Tolan",
      "userId": "01669100208714846840"
     },
     "user_tz": 240
    },
    "id": "RpVx3LGASpa-"
   },
   "outputs": [],
   "source": [
    "# Create a StandardScaler instances\n",
    "scaler = StandardScaler()\n",
    "\n",
    "# Fit the StandardScaler\n",
    "X_scaler = scaler.fit(X_train)\n",
    "\n",
    "# Scale the data\n",
    "X_train_scaled = X_scaler.transform(X_train)\n",
    "X_test_scaled = X_scaler.transform(X_test)"
   ]
  },
  {
   "cell_type": "markdown",
   "metadata": {
    "id": "d6fqbMEVSpa_"
   },
   "source": [
    "## Compile, Train and Evaluate the Model"
   ]
  },
  {
   "cell_type": "code",
   "execution_count": 29,
   "metadata": {
    "colab": {
     "base_uri": "https://localhost:8080/"
    },
    "executionInfo": {
     "elapsed": 1031,
     "status": "ok",
     "timestamp": 1693106196604,
     "user": {
      "displayName": "Michael Tolan",
      "userId": "01669100208714846840"
     },
     "user_tz": 240
    },
    "id": "e5q9VOwtSpa_",
    "outputId": "4a1a72ac-4c0c-4d67-f96e-4b7879db0cd0",
    "scrolled": true
   },
   "outputs": [
    {
     "name": "stdout",
     "output_type": "stream",
     "text": [
      "Model: \"sequential\"\n",
      "_________________________________________________________________\n",
      " Layer (type)                Output Shape              Param #   \n",
      "=================================================================\n",
      " dense (Dense)               (None, 500)               22500     \n",
      "                                                                 \n",
      " dense_1 (Dense)             (None, 300)               150300    \n",
      "                                                                 \n",
      " dense_2 (Dense)             (None, 300)               90300     \n",
      "                                                                 \n",
      " dense_3 (Dense)             (None, 300)               90300     \n",
      "                                                                 \n",
      " dense_4 (Dense)             (None, 300)               90300     \n",
      "                                                                 \n",
      " dense_5 (Dense)             (None, 300)               90300     \n",
      "                                                                 \n",
      " dense_6 (Dense)             (None, 300)               90300     \n",
      "                                                                 \n",
      " dense_7 (Dense)             (None, 300)               90300     \n",
      "                                                                 \n",
      " dense_8 (Dense)             (None, 1)                 301       \n",
      "                                                                 \n",
      "=================================================================\n",
      "Total params: 714,901\n",
      "Trainable params: 714,901\n",
      "Non-trainable params: 0\n",
      "_________________________________________________________________\n"
     ]
    },
    {
     "name": "stderr",
     "output_type": "stream",
     "text": [
      "2023-08-29 10:45:06.230309: I tensorflow/core/platform/cpu_feature_guard.cc:193] This TensorFlow binary is optimized with oneAPI Deep Neural Network Library (oneDNN) to use the following CPU instructions in performance-critical operations:  SSE4.1 SSE4.2 AVX AVX2 FMA\n",
      "To enable them in other operations, rebuild TensorFlow with the appropriate compiler flags.\n"
     ]
    }
   ],
   "source": [
    "# Define the model - deep neural net, i.e., the number of input features and hidden nodes for each layer.\n",
    "\n",
    "# Define the model - deep neural net\n",
    "nn = tf.keras.models.Sequential()\n",
    "\n",
    "#Define layers and neurons per layer\n",
    "number_input_features = len(X_train_scaled[0])\n",
    "hidden_nodes_layer1 =  500\n",
    "hidden_nodes_layer2 = 300\n",
    "hidden_nodes_layer3 = 300\n",
    "hidden_nodes_layer4 = 300\n",
    "hidden_nodes_layer5 = 300\n",
    "hidden_nodes_layer6 = 300\n",
    "hidden_nodes_layer7 = 300\n",
    "hidden_nodes_layer8 = 300\n",
    "\n",
    "\n",
    "# First hidden layer\n",
    "nn.add(tf.keras.layers.Dense(units=hidden_nodes_layer1, input_dim=number_input_features, activation=\"relu\"))\n",
    "\n",
    "# Second hidden layer\n",
    "nn.add(tf.keras.layers.Dense(units=hidden_nodes_layer2, activation=\"relu\"))\n",
    "\n",
    "# Third hidden layer\n",
    "nn.add(tf.keras.layers.Dense(units=hidden_nodes_layer3, activation=\"relu\"))\n",
    "\n",
    "# # # Fourth hidden layer\n",
    "nn.add(tf.keras.layers.Dense(units=hidden_nodes_layer4, activation=\"relu\"))\n",
    "\n",
    "# # Fifth hidden layer\n",
    "nn.add(tf.keras.layers.Dense(units=hidden_nodes_layer5, activation=\"relu\"))\n",
    "\n",
    "# # Sixth hidden layer\n",
    "nn.add(tf.keras.layers.Dense(units=hidden_nodes_layer6, activation=\"relu\"))\n",
    "\n",
    "# # Seventh hidden layer\n",
    "nn.add(tf.keras.layers.Dense(units=hidden_nodes_layer7, activation=\"relu\"))\n",
    "\n",
    "# # Eighth hidden layer\n",
    "nn.add(tf.keras.layers.Dense(units=hidden_nodes_layer8, activation=\"relu\"))\n",
    "\n",
    "\n",
    "# Output layer\n",
    "nn.add(tf.keras.layers.Dense(units=1, activation=\"sigmoid\"))\n",
    "\n",
    "# Check the structure of the model\n",
    "nn.summary()\n"
   ]
  },
  {
   "cell_type": "code",
   "execution_count": 30,
   "metadata": {
    "executionInfo": {
     "elapsed": 5,
     "status": "ok",
     "timestamp": 1693106196605,
     "user": {
      "displayName": "Michael Tolan",
      "userId": "01669100208714846840"
     },
     "user_tz": 240
    },
    "id": "oSTUXRZJSpa_"
   },
   "outputs": [],
   "source": [
    "# Compile the model\n",
    "nn.compile(loss=\"binary_crossentropy\", optimizer=\"adam\", metrics=[\"accuracy\"])"
   ]
  },
  {
   "cell_type": "code",
   "execution_count": 31,
   "metadata": {
    "colab": {
     "base_uri": "https://localhost:8080/"
    },
    "id": "6eC-ff4USpa_",
    "outputId": "ff5be6c9-f912-4d1c-fb9c-b29aff87fd7f"
   },
   "outputs": [
    {
     "name": "stdout",
     "output_type": "stream",
     "text": [
      "Epoch 1/100\n",
      "804/804 [==============================] - 6s 7ms/step - loss: 0.6004 - accuracy: 0.6954\n",
      "Epoch 2/100\n",
      "804/804 [==============================] - 5s 7ms/step - loss: 0.5849 - accuracy: 0.7057\n",
      "Epoch 3/100\n",
      "804/804 [==============================] - 5s 7ms/step - loss: 0.5831 - accuracy: 0.7080\n",
      "Epoch 4/100\n",
      "804/804 [==============================] - 6s 7ms/step - loss: 0.5777 - accuracy: 0.7116\n",
      "Epoch 5/100\n",
      "804/804 [==============================] - 6s 7ms/step - loss: 0.5791 - accuracy: 0.7090\n",
      "Epoch 6/100\n",
      "804/804 [==============================] - 6s 7ms/step - loss: 0.5760 - accuracy: 0.7112\n",
      "Epoch 7/100\n",
      "804/804 [==============================] - 6s 7ms/step - loss: 0.5755 - accuracy: 0.7108\n",
      "Epoch 8/100\n",
      "804/804 [==============================] - 6s 7ms/step - loss: 0.5738 - accuracy: 0.7133\n",
      "Epoch 9/100\n",
      "804/804 [==============================] - 6s 7ms/step - loss: 0.5732 - accuracy: 0.7136\n",
      "Epoch 10/100\n",
      "804/804 [==============================] - 6s 7ms/step - loss: 0.5722 - accuracy: 0.7155\n",
      "Epoch 11/100\n",
      "804/804 [==============================] - 6s 7ms/step - loss: 0.5714 - accuracy: 0.7156\n",
      "Epoch 12/100\n",
      "804/804 [==============================] - 6s 7ms/step - loss: 0.5716 - accuracy: 0.7163\n",
      "Epoch 13/100\n",
      "804/804 [==============================] - 5s 7ms/step - loss: 0.5694 - accuracy: 0.7177\n",
      "Epoch 14/100\n",
      "804/804 [==============================] - 6s 7ms/step - loss: 0.5687 - accuracy: 0.7165\n",
      "Epoch 15/100\n",
      "804/804 [==============================] - 5s 7ms/step - loss: 0.5689 - accuracy: 0.7162\n",
      "Epoch 16/100\n",
      "804/804 [==============================] - 6s 7ms/step - loss: 0.5677 - accuracy: 0.7187\n",
      "Epoch 17/100\n",
      "804/804 [==============================] - 6s 7ms/step - loss: 0.5672 - accuracy: 0.7184\n",
      "Epoch 18/100\n",
      "804/804 [==============================] - 6s 7ms/step - loss: 0.5656 - accuracy: 0.7196\n",
      "Epoch 19/100\n",
      "804/804 [==============================] - 5s 7ms/step - loss: 0.5664 - accuracy: 0.7183\n",
      "Epoch 20/100\n",
      "804/804 [==============================] - 5s 7ms/step - loss: 0.5652 - accuracy: 0.7198\n",
      "Epoch 21/100\n",
      "804/804 [==============================] - 5s 7ms/step - loss: 0.5644 - accuracy: 0.7202\n",
      "Epoch 22/100\n",
      "804/804 [==============================] - 5s 7ms/step - loss: 0.5644 - accuracy: 0.7205\n",
      "Epoch 23/100\n",
      "804/804 [==============================] - 5s 7ms/step - loss: 0.5632 - accuracy: 0.7214\n",
      "Epoch 24/100\n",
      "804/804 [==============================] - 6s 7ms/step - loss: 0.5659 - accuracy: 0.7199\n",
      "Epoch 25/100\n",
      "804/804 [==============================] - 6s 7ms/step - loss: 0.5641 - accuracy: 0.7208\n",
      "Epoch 26/100\n",
      "804/804 [==============================] - 6s 7ms/step - loss: 0.5619 - accuracy: 0.7217\n",
      "Epoch 27/100\n",
      "804/804 [==============================] - 6s 8ms/step - loss: 0.5625 - accuracy: 0.7208\n",
      "Epoch 28/100\n",
      "804/804 [==============================] - 6s 8ms/step - loss: 0.5615 - accuracy: 0.7213\n",
      "Epoch 29/100\n",
      "804/804 [==============================] - 6s 7ms/step - loss: 0.5608 - accuracy: 0.7223\n",
      "Epoch 30/100\n",
      "804/804 [==============================] - 6s 8ms/step - loss: 0.5612 - accuracy: 0.7217\n",
      "Epoch 31/100\n",
      "804/804 [==============================] - 7s 8ms/step - loss: 0.5593 - accuracy: 0.7239\n",
      "Epoch 32/100\n",
      "804/804 [==============================] - 6s 8ms/step - loss: 0.5583 - accuracy: 0.7240\n",
      "Epoch 33/100\n",
      "804/804 [==============================] - 6s 7ms/step - loss: 0.5594 - accuracy: 0.7231\n",
      "Epoch 34/100\n",
      "804/804 [==============================] - 6s 7ms/step - loss: 0.5581 - accuracy: 0.7236\n",
      "Epoch 35/100\n",
      "804/804 [==============================] - 6s 8ms/step - loss: 0.5579 - accuracy: 0.7235\n",
      "Epoch 36/100\n",
      "804/804 [==============================] - 6s 7ms/step - loss: 0.5567 - accuracy: 0.7233\n",
      "Epoch 37/100\n",
      "804/804 [==============================] - 6s 7ms/step - loss: 0.5560 - accuracy: 0.7244\n",
      "Epoch 38/100\n",
      "804/804 [==============================] - 6s 7ms/step - loss: 0.5554 - accuracy: 0.7252\n",
      "Epoch 39/100\n",
      "804/804 [==============================] - 6s 7ms/step - loss: 0.5836 - accuracy: 0.7251\n",
      "Epoch 40/100\n",
      "804/804 [==============================] - 6s 7ms/step - loss: 0.5546 - accuracy: 0.7263\n",
      "Epoch 41/100\n",
      "804/804 [==============================] - 6s 8ms/step - loss: 0.5545 - accuracy: 0.7257\n",
      "Epoch 42/100\n",
      "804/804 [==============================] - 6s 7ms/step - loss: 0.5540 - accuracy: 0.7256\n",
      "Epoch 43/100\n",
      "804/804 [==============================] - 5s 7ms/step - loss: 0.5540 - accuracy: 0.7246\n",
      "Epoch 44/100\n",
      "804/804 [==============================] - 6s 7ms/step - loss: 0.5529 - accuracy: 0.7247\n",
      "Epoch 45/100\n",
      "804/804 [==============================] - 6s 7ms/step - loss: 0.5533 - accuracy: 0.7257\n",
      "Epoch 46/100\n",
      "804/804 [==============================] - 6s 7ms/step - loss: 0.5523 - accuracy: 0.7266\n",
      "Epoch 47/100\n",
      "804/804 [==============================] - 5s 7ms/step - loss: 0.5597 - accuracy: 0.7241\n",
      "Epoch 48/100\n",
      "804/804 [==============================] - 6s 7ms/step - loss: 0.5536 - accuracy: 0.7250\n",
      "Epoch 49/100\n",
      "804/804 [==============================] - 5s 7ms/step - loss: 0.5518 - accuracy: 0.7261\n",
      "Epoch 50/100\n",
      "804/804 [==============================] - 6s 7ms/step - loss: 0.5512 - accuracy: 0.7265\n",
      "Epoch 51/100\n",
      "804/804 [==============================] - 6s 7ms/step - loss: 0.5520 - accuracy: 0.7254\n",
      "Epoch 52/100\n",
      "804/804 [==============================] - 6s 7ms/step - loss: 0.5525 - accuracy: 0.7247\n",
      "Epoch 53/100\n",
      "804/804 [==============================] - 6s 7ms/step - loss: 0.5580 - accuracy: 0.7255\n",
      "Epoch 54/100\n",
      "804/804 [==============================] - 6s 7ms/step - loss: 0.5527 - accuracy: 0.7261\n",
      "Epoch 55/100\n",
      "804/804 [==============================] - 6s 7ms/step - loss: 0.5515 - accuracy: 0.7255\n",
      "Epoch 56/100\n",
      "804/804 [==============================] - 6s 7ms/step - loss: 0.5511 - accuracy: 0.7260\n",
      "Epoch 57/100\n",
      "804/804 [==============================] - 6s 7ms/step - loss: 0.5568 - accuracy: 0.7269\n",
      "Epoch 58/100\n",
      "804/804 [==============================] - 6s 7ms/step - loss: 0.5492 - accuracy: 0.7276\n",
      "Epoch 59/100\n",
      "804/804 [==============================] - 6s 7ms/step - loss: 0.5502 - accuracy: 0.7268\n",
      "Epoch 60/100\n",
      "804/804 [==============================] - 6s 7ms/step - loss: 0.5510 - accuracy: 0.7264\n",
      "Epoch 61/100\n",
      "804/804 [==============================] - 6s 7ms/step - loss: 0.5493 - accuracy: 0.7265\n",
      "Epoch 62/100\n",
      "804/804 [==============================] - 6s 7ms/step - loss: 0.5499 - accuracy: 0.7262\n",
      "Epoch 63/100\n",
      "804/804 [==============================] - 6s 7ms/step - loss: 0.5483 - accuracy: 0.7267\n",
      "Epoch 64/100\n",
      "804/804 [==============================] - 6s 7ms/step - loss: 0.5496 - accuracy: 0.7277\n",
      "Epoch 65/100\n",
      "804/804 [==============================] - 6s 7ms/step - loss: 0.5490 - accuracy: 0.7256\n",
      "Epoch 66/100\n",
      "804/804 [==============================] - 6s 7ms/step - loss: 0.5489 - accuracy: 0.7273\n",
      "Epoch 67/100\n",
      "804/804 [==============================] - 6s 7ms/step - loss: 0.5545 - accuracy: 0.7262\n",
      "Epoch 68/100\n",
      "804/804 [==============================] - 6s 7ms/step - loss: 0.5486 - accuracy: 0.7278\n",
      "Epoch 69/100\n",
      "804/804 [==============================] - 6s 7ms/step - loss: 0.5492 - accuracy: 0.7270\n",
      "Epoch 70/100\n",
      "804/804 [==============================] - 6s 7ms/step - loss: 0.5656 - accuracy: 0.7262\n",
      "Epoch 71/100\n",
      "804/804 [==============================] - 6s 7ms/step - loss: 0.5527 - accuracy: 0.7257\n",
      "Epoch 72/100\n",
      "804/804 [==============================] - 6s 7ms/step - loss: 0.5480 - accuracy: 0.7271\n",
      "Epoch 73/100\n",
      "804/804 [==============================] - 6s 7ms/step - loss: 0.5478 - accuracy: 0.7274\n",
      "Epoch 74/100\n",
      "804/804 [==============================] - 6s 7ms/step - loss: 0.5478 - accuracy: 0.7278\n",
      "Epoch 75/100\n",
      "804/804 [==============================] - 6s 7ms/step - loss: 0.5484 - accuracy: 0.7265\n",
      "Epoch 76/100\n",
      "804/804 [==============================] - 6s 7ms/step - loss: 0.5493 - accuracy: 0.7261\n",
      "Epoch 77/100\n",
      "804/804 [==============================] - 6s 7ms/step - loss: 0.5516 - accuracy: 0.7271\n",
      "Epoch 78/100\n",
      "804/804 [==============================] - 6s 7ms/step - loss: 0.5479 - accuracy: 0.7270\n",
      "Epoch 79/100\n",
      "804/804 [==============================] - 6s 7ms/step - loss: 0.5484 - accuracy: 0.7273\n",
      "Epoch 80/100\n",
      "804/804 [==============================] - 6s 7ms/step - loss: 0.5494 - accuracy: 0.7280\n",
      "Epoch 81/100\n"
     ]
    },
    {
     "name": "stdout",
     "output_type": "stream",
     "text": [
      "804/804 [==============================] - 5s 7ms/step - loss: 0.5473 - accuracy: 0.7279\n",
      "Epoch 82/100\n",
      "804/804 [==============================] - 5s 7ms/step - loss: 0.5515 - accuracy: 0.7273\n",
      "Epoch 83/100\n",
      "804/804 [==============================] - 5s 7ms/step - loss: 0.5486 - accuracy: 0.7284\n",
      "Epoch 84/100\n",
      "804/804 [==============================] - 5s 7ms/step - loss: 0.5477 - accuracy: 0.7279\n",
      "Epoch 85/100\n",
      "804/804 [==============================] - 6s 7ms/step - loss: 0.5504 - accuracy: 0.7275\n",
      "Epoch 86/100\n",
      "804/804 [==============================] - 5s 7ms/step - loss: 0.5489 - accuracy: 0.7279\n",
      "Epoch 87/100\n",
      "804/804 [==============================] - 5s 7ms/step - loss: 0.5466 - accuracy: 0.7277\n",
      "Epoch 88/100\n",
      "804/804 [==============================] - 5s 7ms/step - loss: 0.5497 - accuracy: 0.7275\n",
      "Epoch 89/100\n",
      "804/804 [==============================] - 5s 7ms/step - loss: 0.5587 - accuracy: 0.7260\n",
      "Epoch 90/100\n",
      "804/804 [==============================] - 6s 8ms/step - loss: 0.5573 - accuracy: 0.7280\n",
      "Epoch 91/100\n",
      "804/804 [==============================] - 6s 8ms/step - loss: 0.5489 - accuracy: 0.7271\n",
      "Epoch 92/100\n",
      "804/804 [==============================] - 5s 7ms/step - loss: 0.5473 - accuracy: 0.7284\n",
      "Epoch 93/100\n",
      "804/804 [==============================] - 5s 7ms/step - loss: 0.5459 - accuracy: 0.7280\n",
      "Epoch 94/100\n",
      "804/804 [==============================] - 6s 8ms/step - loss: 0.5462 - accuracy: 0.7275\n",
      "Epoch 95/100\n",
      "804/804 [==============================] - 6s 7ms/step - loss: 0.5497 - accuracy: 0.7278\n",
      "Epoch 96/100\n",
      "804/804 [==============================] - 6s 7ms/step - loss: 0.5502 - accuracy: 0.7283\n",
      "Epoch 97/100\n",
      "804/804 [==============================] - 5s 7ms/step - loss: 0.5484 - accuracy: 0.7282\n",
      "Epoch 98/100\n",
      "804/804 [==============================] - 6s 7ms/step - loss: 0.5459 - accuracy: 0.7283\n",
      "Epoch 99/100\n",
      "804/804 [==============================] - 6s 7ms/step - loss: 0.5452 - accuracy: 0.7278\n",
      "Epoch 100/100\n",
      "804/804 [==============================] - 6s 8ms/step - loss: 0.5447 - accuracy: 0.7290\n"
     ]
    }
   ],
   "source": [
    "# Train the model\n",
    "fit_model = nn.fit(X_train_scaled,y_train,epochs=100)\n"
   ]
  },
  {
   "cell_type": "code",
   "execution_count": 32,
   "metadata": {
    "id": "27VmTkCESpbA",
    "scrolled": true
   },
   "outputs": [
    {
     "name": "stdout",
     "output_type": "stream",
     "text": [
      "268/268 - 1s - loss: 0.8003 - accuracy: 0.7108 - 976ms/epoch - 4ms/step\n",
      "Loss: 0.80030357837677, Accuracy: 0.7107871770858765\n"
     ]
    }
   ],
   "source": [
    "# Evaluate the model using the test data\n",
    "model_loss, model_accuracy = nn.evaluate(X_test_scaled,y_test,verbose=2)\n",
    "print(f\"Loss: {model_loss}, Accuracy: {model_accuracy}\")"
   ]
  },
  {
   "cell_type": "code",
   "execution_count": 33,
   "metadata": {
    "id": "spBkDiTFSpbA"
   },
   "outputs": [],
   "source": [
    "# Export our model to HDF5\n",
    "nn.save('H5_Files/AlphabetSoupCharity_Optimization_3.h5')"
   ]
  },
  {
   "cell_type": "code",
   "execution_count": 34,
   "metadata": {},
   "outputs": [
    {
     "data": {
      "image/png": "[encoded data removed]",
      "text/plain": [
       "<Figure size 640x480 with 1 Axes>"
      ]
     },
     "metadata": {},
     "output_type": "display_data"
    }
   ],
   "source": [
    "# Create a DataFrame containing training history\n",
    "history_df = pd.DataFrame(fit_model.history)\n",
    "\n",
    "# Increase the index by 1 to match the number of epochs\n",
    "history_df.index += 1\n",
    "\n",
    "# Plot the loss\n",
    "history_df.plot(y=\"accuracy\",title=\"Optimized Accuracy over 200 epochs\")\n",
    "\n",
    "plt.savefig('Plots/optimization_3_accuracy.png')\n",
    "plt.show()"
   ]
  },
  {
   "cell_type": "code",
   "execution_count": 35,
   "metadata": {},
   "outputs": [
    {
     "data": {
      "image/png": "[encoded data removed]",
      "text/plain": [
       "<Figure size 640x480 with 1 Axes>"
      ]
     },
     "metadata": {},
     "output_type": "display_data"
    }
   ],
   "source": [
    "# Plot the loss\n",
    "history_df.plot(y=\"loss\", title=\"Optimized Loss over 200 epochs\")\n",
    "\n",
    "plt.savefig('Plots/optimization_3_loss.png')\n",
    "plt.show()"
   ]
  },
  {
   "cell_type": "code",
   "execution_count": null,
   "metadata": {},
   "outputs": [],
   "source": []
  }
 ],
 "metadata": {
  "colab": {
   "provenance": [
    {
     "file_id": "15bvWden_grtUJkqepwwIuDtv-1opsuQd",
     "timestamp": 1693080502288
    },
    {
     "file_id": "1MiuTWeSXgk-DupRikjegqjmp5B6f07Q6",
     "timestamp": 1692979157863
    },
    {
     "file_id": "15V4kxRiqO_cr5umfAV5d5Zb3TQ7BSoOm",
     "timestamp": 1692915792782
    }
   ]
  },
  "kernelspec": {
   "display_name": "Python 3 (ipykernel)",
   "language": "python",
   "name": "python3"
  },
  "language_info": {
   "codemirror_mode": {
    "name": "ipython",
    "version": 3
   },
   "file_extension": ".py",
   "mimetype": "text/x-python",
   "name": "python",
   "nbconvert_exporter": "python",
   "pygments_lexer": "ipython3",
   "version": "3.10.10"
  },
  "vscode": {
   "interpreter": {
    "hash": "31f2aee4e71d21fbe5cf8b01ff0e069b9275f58929596ceb00d14d90e3e16cd6"
   }
  }
 },
 "nbformat": 4,
 "nbformat_minor": 1
}
